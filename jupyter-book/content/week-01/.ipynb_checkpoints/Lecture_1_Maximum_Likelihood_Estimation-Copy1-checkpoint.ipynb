{
 "cells": [
  {
   "cell_type": "markdown",
   "id": "d12c9a96",
   "metadata": {},
   "source": [
    "# Maximum Likelihood Estimation\n",
    "\n",
    "Suppose we have the outcome of some experiment as a series of results $X_1, X_2, ..., X_n$ of independent trials of some process. We suspect that a good way to describe our experiments is a probabilistic model, that is our results all come from repeatedly sampling from an underlying probability distribution. Suppose that we are able to identify a good candidate distribution, say a Normal distribution, or a Bernoulli one. We may describe the probability of observing one particular $X_i$ as $f(X_i)$ or, more explicitly, $f(X_i|\\theta)$. In this case θ represents the parameters upon which the precise shape of distribution $f$ depends, e.g. θ = (μ,σ) in case of a Normal distribution.\n",
    "\n",
    "If we only have access to the samplings, we usually want to know also what are the best values of the parameters θ for describing the process we are seeing. One way of doing this is to choose the parameters θ so that the probability of observing exactly what we saw is maximal. The basic idea here is that, no additional information given, the most sensible thing to assume is that we saw (one of) the most probable outcomes of the process. This procedure goes by the name of **Maximum Likelihood Estimation** (or MLE for short).\n",
    "\n",
    "Given the name of the course, we would very much like to translate all of this nice reasoning in more mathematical terms.\n",
    "\n",
    "\n",
    "Given our favorite underlying distribution $f(X|\\theta)$, the probability of seeing a set of $n$ IID observations $\\{X_i\\}$ will be:\n",
    "$$\n",
    "L(\\theta) = \\prod_{i=1}^n f(X_i | \\theta)\n",
    "$$\n",
    "\n",
    "This function is usually called **Likelihood**, since it describes how likely observed data are given the parameters. Finding the θ that maximize this function amounts to requiring:\n",
    "\n",
    "$$\n",
    "\\hat \\theta = argmax_\\theta\\ L(\\theta)\n",
    "$$\n",
    "\n",
    "For practical reasons, it is usually analytically and computationally simpler to deal with the **Log-Likelihood** function instead:\n",
    "\n",
    "$$\n",
    "\\log L(\\theta) = \\log \\prod_{i=1}^n f(X_i | \\theta) = \\sum_{i=1}^n \\log f(X_i | \\theta)\n",
    "$$\n",
    "\n",
    "Note that since the $\\log$ function is monotone, maximizing $L$ or $\\log L$ will yield the same θ.\n",
    "\n",
    "## Bernoulli $p$ MLE Estimation\n",
    "\n",
    "A first almost trivial example is to use this machinery to estimate the only parameter $p$ of a Bernoulli distribution from a series of trials.\n",
    "\n",
    "Suppose you have access to a (possibly unfair) coin that you can flip for $n$ times in a row. You decide that a reasonable model for this sistem is to treat the outcome of each flip as a Beronoulli variable with unknown probability $p$, that is $X_i \\sim Ber(p)$. In this case your results will be a list of 1s and 0s, since $X_i \\in \\{0,1\\}$.\n",
    "\n",
    "The likelihood of a single trial will therefore be:\n",
    "$$\n",
    "f(X_i|p) = p^{X_i} (1-p)^{1-X_i}\n",
    "$$\n",
    "\n",
    "And the overall likelihood will be:\n",
    "$$\n",
    "L(p) = \\prod_{i=0}^{n} p^{X_i} (1-p)^{1-X_i}\n",
    "$$\n",
    "\n",
    "which in turn define our final target, the overall log-likelihood:\n",
    "$$\n",
    "\\log L(p) = \\sum_{i=0}^{n} \\log [p^{X_i} (1-p)^{1-X_i}]\n",
    "$$\n",
    "\n",
    "\n",
    "\n",
    "*Example:* Suppose you see the sequence $[1,0,1,1,0]$. Under the Bernoulli assumption, the probability of this outcome (that is, the likelihood) is  $L(p) = p(1-p)pp(1-p) = p^3 (1-p)^2$. The log-likelihood will be $\\log L(p) = 3 \\log p + 2 \\log (1-p)$.\n",
    "\n",
    "### Analytic derivation\n",
    "\n",
    "In this case, the mathematics involved is so simple that allows for a very straightforward analytic solution.\n",
    "\n",
    "The log-likelihood only depends on one parameter $p$, and can be maximized by setting $\\frac{d}{dp} \\log L(p) = 0$. Since $\\log L$ is convex in $p$ (it is a sum of convex functions) there will be a single extreme point to find, our solution.\n",
    "\n",
    "Let's work out a more explicit expression for $\\log L(p)$.\n",
    "$$\n",
    "\\begin{align}\n",
    "\\log L(p) &= \\sum_{i=0}^{n} \\log [p^{X_i} (1-p)^{1-X_i}] \\\\\n",
    "      &= \\sum_{i=0}^{n} [X_i \\log p + (1-X_i) \\log (1-p)] \\\\\n",
    "      &= \\log p \\sum_{i=0}^{n} X_i + \\log (1-p) \\sum_{i=0}^{n} (1-X_i) \\\\\n",
    "      &= S \\log p + (n-S) \\log (1-p)\n",
    "\\end{align}\n",
    "$$\n",
    "\n",
    "where $ S = \\sum_{i=0}^{n} X_i$ is the total number of successes.\n",
    "\n",
    "Now we tak the derivative and set it to 0:\n",
    "$$\n",
    "\\frac{d}{dp} \\log L(p) = S \\frac{1}{p} + (n - S) \\frac{-1}{1-p} = 0\n",
    "$$\n",
    "\n",
    "which yields:\n",
    "$$\n",
    "\\hat p = \\frac{S}{n} = \\frac{1}{n} \\sum_{i=0}^{n} X_i\n",
    "$$\n",
    "\n",
    "We discovered that the MLE estimator for the parameter $p$ of a Bernoulli distribution is the **sample mean**.\n",
    "\n",
    "### Computational estimation\n",
    "\n",
    "For the sake of exemplification in a simple case, suppose we cannot compute any analytic expression for the estimation of $p$. We still still have one string to our bow, trying to minimize the log-likelihood numerically.\n",
    "\n",
    "Provided we can come up with a reasonable guess for the likelihood function, we can try to approximate the solution to the argmax by numerically looking for a θ that is close enough to the true solution.\n",
    "\n",
    "Cominig up with *some* likelihood function is usually possible, by introducing some hypothesis like IID sampling and a specific simple form for $f(X_i|\\theta)$ (fairly often a Gaussian).\n",
    "\n",
    "The minimization of such likelihood is usually not trivial. Notice that we said the log-likelihood is **convex in $p$**, but $p$ itself is usually a function of some parameters, that is $p = p(\\theta)$. Unless we carefully construct $p(\\theta)$ to be convex too, there is in general **no reason to assume that it will be** (and in fact in a lot of cases it's not).\n",
    "\n",
    "**NOTE:** Most optimization routines readily available in software packages are implemented for **minimization** instead of maximization. For this reason computational approaches usually require the use of the **NEGATIVE LOG-LIKELIHOOD**. Minimizing the negative of the log-likelihood is equivalent to maximizing the log-likelihood, so this is just an implementation detail and does not change any theoretical consideration.\n",
    "\n",
    "### Basic example\n",
    "\n",
    "We will generate a synthetic dataset by defining a Bernoulli variable and sampling a certain number of times from it. The aim will then be to infer with MLE the (hidden) value we chose for $p$ from the data we generated and compare it to the analytic and to the true value."
   ]
  },
  {
   "cell_type": "code",
   "execution_count": 1,
   "id": "670955e8",
   "metadata": {},
   "outputs": [],
   "source": [
    "import numpy as np\n",
    "import scipy\n",
    "\n",
    "import matplotlib.pyplot as plt\n",
    "plt.rcParams.update({'font.size': 15})"
   ]
  },
  {
   "cell_type": "markdown",
   "id": "14758481",
   "metadata": {},
   "source": [
    "#### Generate synthetic data"
   ]
  },
  {
   "cell_type": "code",
   "execution_count": 2,
   "id": "e5c0b631",
   "metadata": {
    "colab": {
     "base_uri": "https://localhost:8080/"
    },
    "id": "aLsP3931PQFj",
    "outputId": "5e4b11ac-5f30-4842-d0b3-74f0794e81f7"
   },
   "outputs": [
    {
     "name": "stdout",
     "output_type": "stream",
     "text": [
      "Trial results:\n",
      "[1 0 0 0 0 1 0 0 0 0 0 1 0 0 1 0 1 0 0 0 0 0 0 0 0 0 0 1 0 0 1 0 0 0 0 0 0\n",
      " 0 0 0 1 1 1 0 0 1 0 0 1 1]\n"
     ]
    }
   ],
   "source": [
    "# choose the true value for the prob of Bernoulli trials\n",
    "p = .3\n",
    "\n",
    "# choose number of trials\n",
    "n = 50\n",
    "\n",
    "# sample from distribution\n",
    "data = (np.random.uniform(size=n) < p).astype(int)\n",
    "\n",
    "print(f'Trial results:\\n{data}')"
   ]
  },
  {
   "cell_type": "markdown",
   "id": "00886395",
   "metadata": {
    "id": "6grucBizcSIG"
   },
   "source": [
    "#### Analytic estimate (sample mean)"
   ]
  },
  {
   "cell_type": "code",
   "execution_count": 3,
   "id": "7c5b7446",
   "metadata": {
    "colab": {
     "base_uri": "https://localhost:8080/"
    },
    "id": "-QFb0MqhcRan",
    "outputId": "42e429cf-5cd5-4fdd-e3c0-dd3663546877"
   },
   "outputs": [
    {
     "name": "stdout",
     "output_type": "stream",
     "text": [
      "Analytic min. p = 0.26000\n"
     ]
    }
   ],
   "source": [
    "p_analytic = np.mean(data)\n",
    "\n",
    "print(f'Analytic min. p = {p_analytic:.5f}')"
   ]
  },
  {
   "cell_type": "markdown",
   "id": "8007575e",
   "metadata": {
    "id": "XwBxtw6MQ3-y"
   },
   "source": [
    "#### Numerical estimate (max log-likelihood)"
   ]
  },
  {
   "cell_type": "code",
   "execution_count": 4,
   "id": "c75415fd",
   "metadata": {
    "id": "tT4ZT1R3PxAc"
   },
   "outputs": [],
   "source": [
    "# define bernoulli log-likelihood\n",
    "def NLL_bernoulli(p, trials):\n",
    "    '''Bernoulli negative log-likelihood'''\n",
    "\n",
    "    neg_log_likelihood = -np.sum(trials * np.log(p) + (1 - trials) * np.log(1 - p))\n",
    "\n",
    "    return neg_log_likelihood"
   ]
  },
  {
   "cell_type": "code",
   "execution_count": 5,
   "id": "702ce7fb",
   "metadata": {
    "colab": {
     "base_uri": "https://localhost:8080/"
    },
    "id": "ahsSWTY3SS8K",
    "outputId": "541ec6cf-6940-4f08-a046-a576fcd63822"
   },
   "outputs": [
    {
     "name": "stdout",
     "output_type": "stream",
     "text": [
      "Numeric min. p = 0.26000\n"
     ]
    }
   ],
   "source": [
    "# initial (random) guess for p\n",
    "p_init = np.random.uniform()\n",
    "\n",
    "# minimize with scipy routines\n",
    "# bounds is used to constrain optimizer to stay in regions where taking log(p) makes sense\n",
    "epsilon = 1e-5\n",
    "opt_results = scipy.optimize.minimize(lambda p: NLL_bernoulli(p, data),\n",
    "                                      p_init,\n",
    "                                      bounds=[(0. + epsilon, 1. - epsilon)])\n",
    "\n",
    "p_numeric = opt_results.x.squeeze()\n",
    "\n",
    "print(f'Numeric min. p = {p_numeric:.5f}')"
   ]
  },
  {
   "cell_type": "markdown",
   "id": "f6b4d82b",
   "metadata": {
    "id": "8sbBXWSveigw"
   },
   "source": [
    "#### Compare results"
   ]
  },
  {
   "cell_type": "code",
   "execution_count": 6,
   "id": "b7ec2dc3",
   "metadata": {
    "colab": {
     "base_uri": "https://localhost:8080/"
    },
    "id": "FSltPD6QemAt",
    "outputId": "656475a9-9b99-4d7f-f1f0-423c8f60297f"
   },
   "outputs": [
    {
     "name": "stdout",
     "output_type": "stream",
     "text": [
      "True value\t\t p = 0.300\n",
      "Analytic estimate\t p = 0.260\n",
      "Numeric estimate\t p = 0.260\n"
     ]
    }
   ],
   "source": [
    "print(f'True value\\t\\t p = {p:.3f}')\n",
    "print(f'Analytic estimate\\t p = {p_analytic:.3f}')\n",
    "print(f'Numeric estimate\\t p = {p_numeric:.3f}')"
   ]
  },
  {
   "cell_type": "code",
   "execution_count": 7,
   "id": "bcefcc42",
   "metadata": {
    "colab": {
     "base_uri": "https://localhost:8080/",
     "height": 461
    },
    "id": "z8jeiNedSVoi",
    "outputId": "addb7178-edf6-43ca-8d50-42fb8a06f4b8"
   },
   "outputs": [
    {
     "data": {
      "image/png": "[encoded data removed]",
      "text/plain": [
       "<Figure size 640x480 with 1 Axes>"
      ]
     },
     "metadata": {},
     "output_type": "display_data"
    }
   ],
   "source": [
    "# generate complete NLL curve\n",
    "# NOTE: it's feasible only since we have to scan ONE single parameter in a bounded region!!!\n",
    "ps = np.linspace(.001,.999,300)\n",
    "lls = np.asarray([NLL_bernoulli(pp, data) for pp in ps])\n",
    "plt.plot(ps, lls, 'r-')\n",
    "\n",
    "# show estimates for p\n",
    "plt.plot(p_analytic, NLL_bernoulli(p_analytic, data), 's', markersize=10, label=f'Analytic min: p={p_numeric:.3f}, NLL={NLL_bernoulli(p_analytic, data):.3f}')\n",
    "plt.plot(p_numeric, NLL_bernoulli(p_numeric, data), '*', markersize=10, label=f'Numeric min: p={p_numeric:.3f}, NLL={NLL_bernoulli(p_numeric, data):.3f}')\n",
    "\n",
    "\n",
    "plt.xlabel('p')\n",
    "plt.ylabel('Negative log-likelihood')\n",
    "\n",
    "plt.grid(alpha=.2)\n",
    "plt.legend();"
   ]
  },
  {
   "cell_type": "markdown",
   "id": "b0dcd8d8",
   "metadata": {
    "id": "ymD4QBeolV7f"
   },
   "source": [
    "## Sum of Bernoulli variables\n",
    "\n",
    "We will now deal with a problem slightly less trivial than the fit of a Bernoulli variable. As it happens, this example bear some similarity to one of the application that will be seen in this course.\n",
    "\n",
    "The problem goes as follows. Suppose now that each observation $X_i$ is not the outcome of a single coin flip, but the sum of the results of of two coins flipped in parallel. In mathematical terms we can say that, given two Bernoulli random variables $Z_i^{(1)}, Z_i^{(2)} \\sim Bernoulli(p)$, we define the random variable $X_i = Z_i^{(1)} + Z_i^{(2)}$. In this case we will have that $X_i \\in \\{0,1,2\\}$.\n",
    "\n",
    "Note that each of the possible outcomes will have a different probability, dependent on the underlying probability $p$ of the Bernoulli variables. We have that:\n",
    "$$\n",
    "P(X_i = 0) = P(Z_i^{(1)} = 0) P(Z_i^{(2)} = 0) = (1 - p)^2 \\\\\n",
    "P(X_i = 1) = P(Z_i^{(1)} = 0) P(Z_i^{(2)} = 1) + P(Z_i^{(1)} = 1) P(Z_i^{(2)} = 0) = 2 p (1 - p) \\\\\n",
    "P(X_i = 2) = P(Z_i^{(1)} = 1) P(Z_i^{(2)} = 1) = p^2 \\\\\n",
    "$$\n",
    "\n",
    "Suppose now that we observe a total number N of such paired coin flips and we record the results. We end up seeing $n_0$ events where $X_i = 0$, $n_1$ events where $X_i = 1$ and $n_2$ events where $X_i = 2$. The likelihood of our observation will be:\n",
    "\n",
    "$$\n",
    "\\begin{align}\n",
    "L(p) &= [P(X_i = 0)]^{n_0}[P(X_i = 1)]^{n_1}[P(X_i = 2)]^{n_2} \\\\\n",
    "      &= [(1 - p)^2]^{n_0}[2 p (1 - p)]^{n_1}[p^2]^{n_2}\n",
    "\\end{align}\n",
    "$$\n",
    "\n",
    "From this point on we can proceed in the usual way. We can try to find the optimal $p$ analytically or we define the negative log-likelihood as $NLL(p) = - \\log L(p)$ and we try to minimize it numerically."
   ]
  },
  {
   "cell_type": "markdown",
   "id": "e238644d",
   "metadata": {
    "id": "hkVqQcZRuYMi"
   },
   "source": [
    "#### Generate synthetic data"
   ]
  },
  {
   "cell_type": "code",
   "execution_count": 8,
   "id": "ae24c6ee",
   "metadata": {
    "colab": {
     "base_uri": "https://localhost:8080/"
    },
    "id": "4znP3XkiSVmZ",
    "outputId": "96a68295-5178-496f-98bc-07d4aebbe573"
   },
   "outputs": [
    {
     "name": "stdout",
     "output_type": "stream",
     "text": [
      "Trial results:\n",
      "[2 1 2 0 1 2 1 2 1 2 1 1 2 1 2 1 1 2 1 1 1 2 2 1 2 2 0 1 0 0 2 1 2 2 2 1 1\n",
      " 2 2 1 2 2 0 2 1 2 2 2 0 1]\n"
     ]
    }
   ],
   "source": [
    "# choose the true value for the prob of Bernoulli trials\n",
    "p = .7\n",
    "\n",
    "# choose number of trials\n",
    "N = 50\n",
    "\n",
    "# generate coin flips as (N,2) matrix\n",
    "# (recall that each of the N trials is the flip of two coins)\n",
    "data = (np.random.uniform(size=(N,2)) < p)\n",
    "data = data.sum(1).astype(int) #sum over rows to get the final values\n",
    "\n",
    "print(f'Trial results:\\n{data}')"
   ]
  },
  {
   "cell_type": "markdown",
   "id": "06f7581d",
   "metadata": {
    "id": "IzobHgUpvnsG"
   },
   "source": [
    "#### Analytic estimate\n",
    "\n",
    "Also in this case, we can calculate the MLE of $p$ analytically by setting $\\frac{d}{dp} \\log L(p) = 0$. After a bit of algebra we reach the conclusion that the estimator of $p$ has the form:\n",
    "$$\n",
    "\\hat p = \\frac{2 n_2 + n_1}{2 N}\n",
    "$$"
   ]
  },
  {
   "cell_type": "code",
   "execution_count": 9,
   "id": "38432190",
   "metadata": {
    "colab": {
     "base_uri": "https://localhost:8080/"
    },
    "id": "agQ3EYB3SVj0",
    "outputId": "51352efe-83bb-4662-a9f8-719b2e309c45"
   },
   "outputs": [
    {
     "name": "stdout",
     "output_type": "stream",
     "text": [
      "Analytic min. p = 0.68000\n"
     ]
    }
   ],
   "source": [
    "n0, n1, n2 = np.bincount(data)\n",
    "\n",
    "p_analytic =  (2*n2 + n1)/(2 * N)\n",
    "\n",
    "print(f'Analytic min. p = {p_analytic:.5f}')"
   ]
  },
  {
   "cell_type": "markdown",
   "id": "33e8b5e3",
   "metadata": {
    "id": "C_nCqlTDvy21"
   },
   "source": [
    "#### Numerical estimate"
   ]
  },
  {
   "cell_type": "code",
   "execution_count": 10,
   "id": "84d74d89",
   "metadata": {
    "id": "vAj0jRhYSVhR"
   },
   "outputs": [],
   "source": [
    "# define bernoulli log-likelihood\n",
    "def NLL(p, trials):\n",
    "    '''Negative log-likelihood for sum of double coin flips'''\n",
    "\n",
    "    # count outcome occurrences\n",
    "    n0, n1, n2 = np.bincount(data)\n",
    "\n",
    "    log_likelihood =  2*n0*np.log(1 - p) + n1*(np.log(2)+np.log(p)+np.log(1 - p)) + 2*n2*np.log(p)\n",
    "\n",
    "    return -log_likelihood"
   ]
  },
  {
   "cell_type": "code",
   "execution_count": 11,
   "id": "c1e254b1",
   "metadata": {
    "colab": {
     "base_uri": "https://localhost:8080/"
    },
    "id": "Njtlobw4SVfM",
    "outputId": "f817b890-26da-4391-b3b3-342f012e2bc7"
   },
   "outputs": [
    {
     "name": "stdout",
     "output_type": "stream",
     "text": [
      "Numeric min. p = 0.68000\n"
     ]
    }
   ],
   "source": [
    "# initial (random) guess for p\n",
    "p_init = np.random.uniform()\n",
    "\n",
    "# minimize with scipy routines\n",
    "# bounds is used to constrain optimizer to stay in regions where taking log(p) makes sense\n",
    "epsilon = 1e-5\n",
    "opt_results = scipy.optimize.minimize(lambda p: NLL(p, data),\n",
    "                                      p_init,\n",
    "                                      bounds=[(0. + epsilon, 1. - epsilon)])\n",
    "\n",
    "p_numeric = opt_results.x.squeeze()\n",
    "\n",
    "print(f'Numeric min. p = {p_numeric:.5f}')"
   ]
  },
  {
   "cell_type": "markdown",
   "id": "2415ceb6",
   "metadata": {
    "id": "gSnP--_wy4Hf"
   },
   "source": [
    "### Compare results"
   ]
  },
  {
   "cell_type": "code",
   "execution_count": 12,
   "id": "67431b6d",
   "metadata": {
    "colab": {
     "base_uri": "https://localhost:8080/"
    },
    "id": "uF2fJvj4SVZS",
    "outputId": "e046bc86-10ca-4ddf-cd5f-924126a132fa"
   },
   "outputs": [
    {
     "name": "stdout",
     "output_type": "stream",
     "text": [
      "True value\t\t p = 0.700\n",
      "Analytic estimate\t p = 0.680\n",
      "Numeric estimate\t p = 0.680\n"
     ]
    }
   ],
   "source": [
    "print(f'True value\\t\\t p = {p:.3f}')\n",
    "print(f'Analytic estimate\\t p = {p_analytic:.3f}')\n",
    "print(f'Numeric estimate\\t p = {p_numeric:.3f}')"
   ]
  },
  {
   "cell_type": "code",
   "execution_count": 13,
   "id": "870728a5",
   "metadata": {
    "colab": {
     "base_uri": "https://localhost:8080/",
     "height": 461
    },
    "id": "dWPrXD6_SVWO",
    "outputId": "039fd7bd-3e78-43c0-c881-c1ab9099cda4"
   },
   "outputs": [
    {
     "data": {
      "image/png": "[encoded data removed]",
      "text/plain": [
       "<Figure size 640x480 with 1 Axes>"
      ]
     },
     "metadata": {},
     "output_type": "display_data"
    }
   ],
   "source": [
    "# generate complete NLL curve\n",
    "# NOTE: it's feasible only since we have to scan ONE single parameter in a bounded region!!!\n",
    "ps = np.linspace(.001,.999,300)\n",
    "lls = np.asarray([NLL(pp, data) for pp in ps])\n",
    "plt.plot(ps, lls, 'r-')\n",
    "\n",
    "# show estimates for p\n",
    "plt.plot(p_analytic, NLL(p_analytic, data), 's', markersize=10, label=f'Analytic min: p={p_numeric:.3f}, NLL={NLL(p_analytic, data):.3f}')\n",
    "plt.plot(p_numeric, NLL(p_numeric, data), '*', markersize=10, label=f'Numeric min: p={p_numeric:.3f}, NLL={NLL(p_numeric, data):.3f}')\n",
    "\n",
    "\n",
    "plt.xlabel('p')\n",
    "plt.ylabel('Negative log-likelihood')\n",
    "\n",
    "plt.grid(alpha=.2)\n",
    "plt.legend();"
   ]
  },
  {
   "cell_type": "markdown",
   "id": "e6eaa7d3",
   "metadata": {
    "id": "K_DmjeZQHr0C"
   },
   "source": [
    "# (Stub) Standard deviation of the mean\n",
    "\n",
    "One could reasonably expect that, in both examples, the more samples we have, the more precise our estimate of $p$ will be. But how much more precise?\n",
    "\n",
    "- Choose values for $p$ and $n$ that you like. Draw a number of datasets of size $n$ and estimate $\\hat p$ from each of them.\n",
    "\n",
    "- Plot and analyze the distribution of values of $\\hat p$. How close is the average $<\\hat p>$ to the real $p$? what is the standard deviation of the distribution?\n",
    "\n",
    "- Repeat the same procedure for increasing $n$. Track and plot the variance of the distribution of $\\hat p$ for each $n$. Can you take a reasonable guess for the scaling behavior?\n",
    "\n",
    "**HINT:** What you are calculating is the so-called *standard deviation of the mean*. For a Bernoulli variable, it is supposed to scale as $\\frac{1}{\\sqrt n}$."
   ]
  },
  {
   "cell_type": "code",
   "execution_count": null,
   "id": "348b6207",
   "metadata": {
    "editable": true,
    "id": "aslTWqLISVTa",
    "slideshow": {
     "slide_type": ""
    },
    "tags": []
   },
   "outputs": [],
   "source": []
  }
 ],
 "metadata": {
  "kernelspec": {
   "display_name": "Python 3 (ipykernel)",
   "language": "python",
   "name": "python3"
  },
  "language_info": {
   "codemirror_mode": {
    "name": "ipython",
    "version": 3
   },
   "file_extension": ".py",
   "mimetype": "text/x-python",
   "name": "python",
   "nbconvert_exporter": "python",
   "pygments_lexer": "ipython3",
   "version": "3.12.11"
  }
 },
 "nbformat": 4,
 "nbformat_minor": 5
}

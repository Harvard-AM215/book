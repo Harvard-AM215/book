{
  "nbformat": 4,
  "nbformat_minor": 0,
  "metadata": {
    "colab": {
      "provenance": []
    },
    "kernelspec": {
      "name": "python3",
      "display_name": "Python 3"
    },
    "language_info": {
      "name": "python"
    }
  },
  "cells": [
    {
      "cell_type": "markdown",
      "source": [
        "# Applied Mathematics 115/215: Mathematical Modeling (for Computational Science)  \n",
        "---\n",
        "*2024 Fall Term*\n",
        "\n",
        "\n"
      ],
      "metadata": {
        "id": "f3jkqcBP6Sb6"
      }
    },
    {
      "cell_type": "markdown",
      "source": [
        "# Single elimination tournaments\n",
        "\n",
        "In a single-elimination tournament, participants compete in a series of rounds, with each round consisting of matches between pairs of contestants. The loser of each match is immediately eliminated from the tournament, while the winner advances to the next round. This process continues until only one participant emerginges as the overall champion of the tournament. Single-elimination tournaments are commonly used in sports and other competitive events to determine a clear winner within a short period.\n",
        "\n",
        "Taking inspiration from the previous models, we can imagine a vary basic way to model any tournament of this kind. Each two contestants $i$ and $j$ are associated with a probability $p_{ij}$ that contestant $i$ wins over contestant $j$ in a direct match. We then treat every direct match as a Bernoulli trial.\n",
        "\n",
        "There are two major differences w.r.t. the Mosteller model we have seen before. The first (obvious) one is that each two teams play a single game against each other, the other is that the results of each elimination round affect the trials that are carried out in the successive round.\n",
        "\n",
        "This makes it difficult to come up with a closed-form mathematical description of the probability of any team to win such competition. This is especially true if we want to include more and more effects, like home-field advantage or history-dependent probability of winning matches. The best option is then to simulate a lot of tournaments and come up with numerical estimates.\n",
        "\n",
        "For a tournament with $n$ teams, the matrix $P=\\{p_{ij}\\}$ of pairwise probabilities of victory will have the form:\n",
        "\n",
        "$$\n",
        "\\begin{bmatrix}\n",
        "p_{11} & p_{12} & \\cdots & p_{1n} \\\\\n",
        "p_{21} & p_{22} & \\cdots & p_{2n} \\\\\n",
        "\\vdots & \\vdots & \\ddots & \\vdots \\\\\n",
        "p_{n1} & p_{n2} & \\cdots & p_{nn} \\\\\n",
        "\\end{bmatrix}\n",
        "$$\n"
      ],
      "metadata": {
        "id": "PVyZRDGEC-EB"
      }
    },
    {
      "cell_type": "markdown",
      "source": [
        "# Basic Model - 4 teams\n",
        "\n",
        "We start by making two assumptions that simplify the model a lot.\n",
        "\n",
        "The first one is that we are given a draw for the tournament, so the only stochasticity will be given by the results of the matches and not by the initial configuration of participants.\n",
        "\n",
        "The second one is that the probabilities of winning matches are matched, that is $p_{ji} = 1-p_{ij}$. What this means in practice is that we are not accounting for possible effects related to the order of the draw and only which teams are playing matter. This need not apply, for example if you want to consider home advantage (home teams/players are usually listed first, so that $p_{ij}$ would mean \"home game for team $i$\"). If you consider home advantage, for example, then you would have $p_{ji} > 1 - p_{ij}$.\n",
        "\n",
        "We consider a random draw, that will be fixed throughout the simulation. Then we generate some random probabilities of victory and simulate the tournament to estimate the proability of team $i$ winning the tournament."
      ],
      "metadata": {
        "id": "73OMHRPX__OP"
      }
    },
    {
      "cell_type": "code",
      "source": [
        "import numpy as np\n",
        "\n",
        "import matplotlib.pyplot as plt\n",
        "plt.rcParams.update({'font.size': 15})"
      ],
      "metadata": {
        "id": "Av7WYQ2a9v97"
      },
      "execution_count": null,
      "outputs": []
    },
    {
      "cell_type": "markdown",
      "source": [
        "## Draw"
      ],
      "metadata": {
        "id": "z7Te7FNEsP9K"
      }
    },
    {
      "cell_type": "code",
      "source": [
        "N = 4 #number of teams\n",
        "\n",
        "#generate random draw\n",
        "draw = np.arange(N)\n",
        "np.random.shuffle(draw)\n",
        "\n",
        "#group teams 2 by 2\n",
        "initial_matches = draw.reshape(2,-1).tolist()\n",
        "\n",
        "print(initial_matches)"
      ],
      "metadata": {
        "colab": {
          "base_uri": "https://localhost:8080/"
        },
        "id": "CUxv1fycE9Tg",
        "outputId": "f127a58f-eca9-47d2-90b1-32f85df7fbd2"
      },
      "execution_count": null,
      "outputs": [
        {
          "output_type": "stream",
          "name": "stdout",
          "text": [
            "[[3, 0], [2, 1]]\n"
          ]
        }
      ]
    },
    {
      "cell_type": "markdown",
      "source": [
        "## Pairwise Winning Probabilities"
      ],
      "metadata": {
        "id": "z8vConExsNAZ"
      }
    },
    {
      "cell_type": "code",
      "source": [
        "#generate random P matrix\n",
        "P = np.random.uniform(size=(N,N))\n",
        "\n",
        "#zero out lower part of the matrix\n",
        "P = np.triu(P)\n",
        "\n",
        "# set low triangular part to p_ji = 1-p_ij\n",
        "P += np.tril(1-P.T)\n",
        "\n",
        "#for sake of consistency, we set main diagonal to p_ii = 1-p_ii = .5 (has no practical effect)\n",
        "P[np.diag_indices(P.shape[0])] = .5\n",
        "\n",
        "print(P)"
      ],
      "metadata": {
        "colab": {
          "base_uri": "https://localhost:8080/"
        },
        "id": "bzxhXiYQFNOT",
        "outputId": "949381ac-f93b-4d38-e532-04dfcacfda95"
      },
      "execution_count": null,
      "outputs": [
        {
          "output_type": "stream",
          "name": "stdout",
          "text": [
            "[[0.5        0.06573683 0.61438539 0.34953149]\n",
            " [0.93426317 0.5        0.1895151  0.6688216 ]\n",
            " [0.38561461 0.8104849  0.5        0.65795007]\n",
            " [0.65046851 0.3311784  0.34204993 0.5       ]]\n"
          ]
        }
      ]
    },
    {
      "cell_type": "markdown",
      "source": [
        "We can also visualize the matrix of pairwise probabilities as a heatmap"
      ],
      "metadata": {
        "id": "73lDfH-NIbco"
      }
    },
    {
      "cell_type": "code",
      "source": [
        "heatmap = plt.imshow(P, cmap='bwr', vmin=0., vmax=1.)\n",
        "\n",
        "cbar = plt.colorbar()\n",
        "cbar.set_label(r'$p_{ij}$', rotation=0, labelpad=20)\n",
        "\n",
        "# Set integer ticks for both axes\n",
        "plt.xticks(np.arange(N), np.arange(N))\n",
        "plt.yticks(np.arange(N), np.arange(N))\n",
        "\n",
        "for i in range(N):\n",
        "    for j in range(N):\n",
        "        plt.text(j, i, f'{P[i, j]:.2f}', ha='center', va='center', color='black')\n",
        "\n"
      ],
      "metadata": {
        "colab": {
          "base_uri": "https://localhost:8080/",
          "height": 444
        },
        "id": "QsKDtRGeHR8O",
        "outputId": "5dfcf0ec-4ccd-4da8-8610-8c4d5928014b"
      },
      "execution_count": null,
      "outputs": [
        {
          "output_type": "display_data",
          "data": {
            "text/plain": [
              "<Figure size 640x480 with 2 Axes>"
            ],
            "image/png": "[encoded data removed]"
          },
          "metadata": {}
        }
      ]
    },
    {
      "cell_type": "code",
      "source": [
        "P[0,2]"
      ],
      "metadata": {
        "colab": {
          "base_uri": "https://localhost:8080/"
        },
        "id": "4sjuu0mXyEHG",
        "outputId": "e6aaf3db-1798-4017-e8bf-580eef21e049"
      },
      "execution_count": null,
      "outputs": [
        {
          "output_type": "execute_result",
          "data": {
            "text/plain": [
              "0.6143853926327529"
            ]
          },
          "metadata": {},
          "execution_count": 19
        }
      ]
    },
    {
      "cell_type": "markdown",
      "source": [
        "## Tournament simulation"
      ],
      "metadata": {
        "id": "LWvP04tGsSk_"
      }
    },
    {
      "cell_type": "code",
      "source": [
        "def simulate_4team_tournament(draw, P):\n",
        "    '''\n",
        "    Simple simulation of a tournament with 4 teams.\n",
        "\n",
        "    Args\n",
        "    ----\n",
        "\n",
        "    draw : list[int]\n",
        "            List of initial team pairings.\n",
        "    P : np.ndarray\n",
        "        Square matrix with pairwise winning probabilities.\n",
        "    '''\n",
        "\n",
        "    final = []\n",
        "\n",
        "    #elimination rounds\n",
        "    for i,j in draw:\n",
        "        win_i = bool(np.random.uniform() < P[i,j])\n",
        "\n",
        "        if win_i:\n",
        "            final.append(i)\n",
        "        else:\n",
        "            final.append(j)\n",
        "\n",
        "    #final\n",
        "    i, j = final\n",
        "    win_i = bool(np.random.uniform() < P[i,j])\n",
        "\n",
        "    winner = i if win_i else j\n",
        "\n",
        "    return [draw,final,winner]"
      ],
      "metadata": {
        "id": "V01rLWWnwniI"
      },
      "execution_count": null,
      "outputs": []
    },
    {
      "cell_type": "code",
      "source": [
        "simulate_4team_tournament(initial_matches, P)"
      ],
      "metadata": {
        "colab": {
          "base_uri": "https://localhost:8080/"
        },
        "id": "Qc6k3mDUwnlH",
        "outputId": "614309b5-8953-480a-ffd6-e2b9a6bcd671"
      },
      "execution_count": null,
      "outputs": [
        {
          "output_type": "execute_result",
          "data": {
            "text/plain": [
              "[[[3, 0], [2, 1]], [3, 2], 3]"
            ]
          },
          "metadata": {},
          "execution_count": 15
        }
      ]
    },
    {
      "cell_type": "markdown",
      "source": [
        "We can now simulate an ensemble of tournaments and record the results. We can then use these results to estimate the overall probability of a team winning the tournament given the current draw."
      ],
      "metadata": {
        "id": "MSfQrLxV3ris"
      }
    },
    {
      "cell_type": "code",
      "source": [
        "#counts occurrences of objects and returns dictionary with counts\n",
        "from collections import Counter\n",
        "\n",
        "n_trials = 1000\n",
        "\n",
        "#carry out a number of simulated tournaments\n",
        "winners = []\n",
        "for _ in range(n_trials):\n",
        "    _, _, winner = simulate_4team_tournament(initial_matches, P)\n",
        "    winners.append(winner)\n",
        "\n",
        "\n",
        "#count victories\n",
        "dict_wins = Counter(winners)"
      ],
      "metadata": {
        "id": "ctvy9uQdwnnG"
      },
      "execution_count": null,
      "outputs": []
    },
    {
      "cell_type": "code",
      "source": [
        "dict_wins"
      ],
      "metadata": {
        "colab": {
          "base_uri": "https://localhost:8080/"
        },
        "id": "zOQjqRRNwnpT",
        "outputId": "36caf63f-ab0b-46cc-84e5-bc71bdb8cbe1"
      },
      "execution_count": null,
      "outputs": [
        {
          "output_type": "execute_result",
          "data": {
            "text/plain": [
              "Counter({2: 436, 1: 147, 0: 181, 3: 236})"
            ]
          },
          "metadata": {},
          "execution_count": 17
        }
      ]
    },
    {
      "cell_type": "code",
      "source": [
        "#calculate and print winning probabilities\n",
        "print('Tournament winning probabilities:')\n",
        "print('---------------------------------\\n')\n",
        "\n",
        "for team in sorted(dict_wins):\n",
        "\n",
        "    p = dict_wins[team] / n_trials\n",
        "\n",
        "    print(f'Team {team}:\\t{p:.5f}')"
      ],
      "metadata": {
        "colab": {
          "base_uri": "https://localhost:8080/"
        },
        "id": "r_Gyqj-7wnrh",
        "outputId": "8067bb9d-c92d-4baf-eaac-3659260c4deb"
      },
      "execution_count": null,
      "outputs": [
        {
          "output_type": "stream",
          "name": "stdout",
          "text": [
            "Tournament winning probabilities:\n",
            "---------------------------------\n",
            "\n",
            "Team 0:\t0.18100\n",
            "Team 1:\t0.14700\n",
            "Team 2:\t0.43600\n",
            "Team 3:\t0.23600\n"
          ]
        }
      ]
    },
    {
      "cell_type": "code",
      "source": [
        "np.sqrt(1/1000)"
      ],
      "metadata": {
        "colab": {
          "base_uri": "https://localhost:8080/"
        },
        "id": "iOijlsg7yf7z",
        "outputId": "25419c93-52ab-4fd2-b6da-b71245021f86"
      },
      "execution_count": null,
      "outputs": [
        {
          "output_type": "execute_result",
          "data": {
            "text/plain": [
              "0.03162277660168379"
            ]
          },
          "metadata": {},
          "execution_count": 21
        }
      ]
    },
    {
      "cell_type": "markdown",
      "source": [
        "## Question:  How do these numbers converge?\n",
        "\n",
        "* Are these numbers correct to three decimal places?\n",
        "* What experiments can we do to figure this out?"
      ],
      "metadata": {
        "id": "L8l_lRXT7omI"
      }
    },
    {
      "cell_type": "code",
      "source": [
        "\n",
        "n_trials = 100000\n",
        "\n",
        "#carry out a number of simulated tournaments\n",
        "winners = []\n",
        "for _ in range(n_trials):\n",
        "    _, _, winner = simulate_4team_tournament(initial_matches, P)\n",
        "    winners.append(winner)\n",
        "\n",
        "\n",
        "#count victories\n",
        "dict_wins = Counter(winners)"
      ],
      "metadata": {
        "id": "lQcI-ISv728l"
      },
      "execution_count": null,
      "outputs": []
    },
    {
      "cell_type": "code",
      "source": [
        "#calculate and print winning probabilities\n",
        "print('Tournament winning probabilities:')\n",
        "print('---------------------------------\\n')\n",
        "\n",
        "for team in sorted(dict_wins):\n",
        "\n",
        "    p = dict_wins[team] / n_trials\n",
        "\n",
        "    print(f'Team {team}:\\t{p:.3f}')"
      ],
      "metadata": {
        "colab": {
          "base_uri": "https://localhost:8080/"
        },
        "id": "7JJy-Ejm75rk",
        "outputId": "6c33137b-108a-4c7d-ce51-0b3750b4322d"
      },
      "execution_count": null,
      "outputs": [
        {
          "output_type": "stream",
          "name": "stdout",
          "text": [
            "Tournament winning probabilities:\n",
            "---------------------------------\n",
            "\n",
            "Team 0:\t0.178\n",
            "Team 1:\t0.144\n",
            "Team 2:\t0.459\n",
            "Team 3:\t0.219\n"
          ]
        }
      ]
    },
    {
      "cell_type": "markdown",
      "source": [
        "## Effect of initial draw\n",
        "\n",
        "We'll now use the code above to estimate the winning probability of each team for each of the possible initial draws.\n",
        "\n",
        "It turns out that, unsurprisingly, the initial draw has a big impact on the overall probability of winning the tournament."
      ],
      "metadata": {
        "id": "2EtR_Nrp559z"
      }
    },
    {
      "cell_type": "code",
      "source": [
        "#for simplicity define a new function\n",
        "def simulate_ensemble(draw, P, n_trials):\n",
        "\n",
        "    #carry out a number of simulated tournaments\n",
        "    winners = []\n",
        "    for _ in range(n_trials):\n",
        "        winner = simulate_4team_tournament(draw, P)[-1]\n",
        "        winners.append(winner)\n",
        "\n",
        "    #count victories\n",
        "    dict_wins = Counter(winners)\n",
        "\n",
        "    return dict_wins"
      ],
      "metadata": {
        "id": "vBmQm4Fwwntw"
      },
      "execution_count": null,
      "outputs": []
    },
    {
      "cell_type": "code",
      "source": [
        "possible_draws = [\n",
        "    [[0,1],[2,3]],\n",
        "    [[0,2],[1,3]],\n",
        "    [[0,3],[1,2]]\n",
        "]"
      ],
      "metadata": {
        "id": "eA4xJizpwnwC"
      },
      "execution_count": null,
      "outputs": []
    },
    {
      "cell_type": "code",
      "source": [
        "#trials per draw\n",
        "n_trials = 10000\n",
        "\n",
        "team_p = {0:[], 1:[], 2:[], 3:[]}\n",
        "\n",
        "for draw in possible_draws:\n",
        "    d_wins = simulate_ensemble(draw, P, n_trials)\n",
        "\n",
        "    #update p dict\n",
        "    for team in d_wins:\n",
        "        team_p[team] += [d_wins[team]/n_trials]"
      ],
      "metadata": {
        "id": "VRbyD3_rup5d"
      },
      "execution_count": null,
      "outputs": []
    },
    {
      "cell_type": "code",
      "source": [
        "team_p"
      ],
      "metadata": {
        "colab": {
          "base_uri": "https://localhost:8080/"
        },
        "id": "DzII41EOEYfR",
        "outputId": "0ec1d41a-1c95-4e93-8488-742cf42a54bc"
      },
      "execution_count": null,
      "outputs": [
        {
          "output_type": "execute_result",
          "data": {
            "text/plain": [
              "{0: [0.3488, 0.3409, 0.6774],\n",
              " 1: [0.0679, 0.3072, 0.1094],\n",
              " 2: [0.5809, 0.3326, 0.1798],\n",
              " 3: [0.0024, 0.0193, 0.0334]}"
            ]
          },
          "metadata": {},
          "execution_count": 13
        }
      ]
    },
    {
      "cell_type": "code",
      "source": [
        "for team in team_p:\n",
        "    for winp,color in zip(team_p[team],['b','g','r']):\n",
        "        plt.plot([team],[winp], color+'^', markersize=15, alpha=.7)\n",
        "\n",
        "plt.xticks(np.arange(N), np.arange(N))\n",
        "plt.grid(alpha=.2)\n",
        "\n",
        "plt.xlabel('Team')\n",
        "plt.ylabel('P(win)')\n",
        "\n",
        "#quick trick to add legend without repetitions (empty plots)\n",
        "plt.plot([], [], 'b^', alpha=.7, markersize=15, label='Draw 1')\n",
        "plt.plot([], [], 'g^', alpha=.7, markersize=15, label='Draw 2')\n",
        "plt.plot([], [], 'r^', alpha=.7, markersize=15, label='Draw 3')\n",
        "\n",
        "plt.legend(loc='upper center');"
      ],
      "metadata": {
        "colab": {
          "base_uri": "https://localhost:8080/",
          "height": 461
        },
        "id": "8nBrlY3kEnH_",
        "outputId": "a6bf57f9-c3ed-4ea5-bb3f-ff12f11bc4be"
      },
      "execution_count": null,
      "outputs": [
        {
          "output_type": "display_data",
          "data": {
            "text/plain": [
              "<Figure size 640x480 with 1 Axes>"
            ],
            "image/png": "[encoded data removed]"
          },
          "metadata": {}
        }
      ]
    },
    {
      "cell_type": "markdown",
      "source": [
        "# (Stub) Estimate Pairwise Probabilities from Data\n",
        "\n",
        "When modelling an actual tournament, we are usually given the initial draw or at least the partecipating teams. The information that's usually missing and that's at the core of the whole approach is, once again, the one about pairwise wining probabilities. For lack of better options, we can assume that these do not change too much in time and try to infer them from past matches between two teams.\n",
        "\n",
        "The most crude approach is again to treat each past match as a bernoulli trial, then take the average of the results as the best approximation for $p_{ij}$."
      ],
      "metadata": {
        "id": "tPT7mUbhKvCY"
      }
    },
    {
      "cell_type": "code",
      "source": [
        "# uncomment to clone gh repo easier access to data\n",
        "!git clone https://github.com/fmottes/Harvard-AM115-2024.git\n",
        "\n",
        "DATA_PATH = 'Harvard-AM115-2024/Homework/HW1/'"
      ],
      "metadata": {
        "colab": {
          "base_uri": "https://localhost:8080/"
        },
        "id": "knXtBOKGF80X",
        "outputId": "4ef4e3b3-1f05-4101-9304-baf233bd95a0"
      },
      "execution_count": null,
      "outputs": [
        {
          "output_type": "stream",
          "name": "stdout",
          "text": [
            "Cloning into 'Harvard-AM115-2024'...\n",
            "remote: Enumerating objects: 135, done.\u001b[K\n",
            "remote: Counting objects: 100% (74/74), done.\u001b[K\n",
            "remote: Compressing objects: 100% (60/60), done.\u001b[K\n",
            "remote: Total 135 (delta 32), reused 53 (delta 13), pack-reused 61 (from 1)\u001b[K\n",
            "Receiving objects: 100% (135/135), 11.76 MiB | 24.42 MiB/s, done.\n",
            "Resolving deltas: 100% (48/48), done.\n"
          ]
        }
      ]
    },
    {
      "cell_type": "code",
      "source": [
        "import pandas as pd\n",
        "\n",
        "#homework file with data\n",
        "with open(DATA_PATH+'HW1-P4-Tournament4Teams_PrevMatches.csv', 'r') as fh:\n",
        "    tournament_history = pd.read_csv(fh)"
      ],
      "metadata": {
        "id": "RggkFXyJSGuW"
      },
      "execution_count": null,
      "outputs": []
    },
    {
      "cell_type": "code",
      "source": [
        "tournament_history"
      ],
      "metadata": {
        "colab": {
          "base_uri": "https://localhost:8080/",
          "height": 424
        },
        "id": "ms6bD1epTvLT",
        "outputId": "760ab816-f5b8-4741-8ab1-0ceb03bad1b9"
      },
      "execution_count": null,
      "outputs": [
        {
          "output_type": "execute_result",
          "data": {
            "text/plain": [
              "     TeamA  TeamB  Result\n",
              "0        2      0       0\n",
              "1        3      1       0\n",
              "2        2      1       0\n",
              "3        2      3       1\n",
              "4        1      2       0\n",
              "..     ...    ...     ...\n",
              "179      1      0       0\n",
              "180      3      1       0\n",
              "181      0      2       1\n",
              "182      0      3       1\n",
              "183      3      1       0\n",
              "\n",
              "[184 rows x 3 columns]"
            ],
            "text/html": [
              "\n",
              "  <div id=\"df-d6514b30-7a9c-4e37-a702-cc91f0b7328f\" class=\"colab-df-container\">\n",
              "    <div>\n",
              "<style scoped>\n",
              "    .dataframe tbody tr th:only-of-type {\n",
              "        vertical-align: middle;\n",
              "    }\n",
              "\n",
              "    .dataframe tbody tr th {\n",
              "        vertical-align: top;\n",
              "    }\n",
              "\n",
              "    .dataframe thead th {\n",
              "        text-align: right;\n",
              "    }\n",
              "</style>\n",
              "<table border=\"1\" class=\"dataframe\">\n",
              "  <thead>\n",
              "    <tr style=\"text-align: right;\">\n",
              "      <th></th>\n",
              "      <th>TeamA</th>\n",
              "      <th>TeamB</th>\n",
              "      <th>Result</th>\n",
              "    </tr>\n",
              "  </thead>\n",
              "  <tbody>\n",
              "    <tr>\n",
              "      <th>0</th>\n",
              "      <td>2</td>\n",
              "      <td>0</td>\n",
              "      <td>0</td>\n",
              "    </tr>\n",
              "    <tr>\n",
              "      <th>1</th>\n",
              "      <td>3</td>\n",
              "      <td>1</td>\n",
              "      <td>0</td>\n",
              "    </tr>\n",
              "    <tr>\n",
              "      <th>2</th>\n",
              "      <td>2</td>\n",
              "      <td>1</td>\n",
              "      <td>0</td>\n",
              "    </tr>\n",
              "    <tr>\n",
              "      <th>3</th>\n",
              "      <td>2</td>\n",
              "      <td>3</td>\n",
              "      <td>1</td>\n",
              "    </tr>\n",
              "    <tr>\n",
              "      <th>4</th>\n",
              "      <td>1</td>\n",
              "      <td>2</td>\n",
              "      <td>0</td>\n",
              "    </tr>\n",
              "    <tr>\n",
              "      <th>...</th>\n",
              "      <td>...</td>\n",
              "      <td>...</td>\n",
              "      <td>...</td>\n",
              "    </tr>\n",
              "    <tr>\n",
              "      <th>179</th>\n",
              "      <td>1</td>\n",
              "      <td>0</td>\n",
              "      <td>0</td>\n",
              "    </tr>\n",
              "    <tr>\n",
              "      <th>180</th>\n",
              "      <td>3</td>\n",
              "      <td>1</td>\n",
              "      <td>0</td>\n",
              "    </tr>\n",
              "    <tr>\n",
              "      <th>181</th>\n",
              "      <td>0</td>\n",
              "      <td>2</td>\n",
              "      <td>1</td>\n",
              "    </tr>\n",
              "    <tr>\n",
              "      <th>182</th>\n",
              "      <td>0</td>\n",
              "      <td>3</td>\n",
              "      <td>1</td>\n",
              "    </tr>\n",
              "    <tr>\n",
              "      <th>183</th>\n",
              "      <td>3</td>\n",
              "      <td>1</td>\n",
              "      <td>0</td>\n",
              "    </tr>\n",
              "  </tbody>\n",
              "</table>\n",
              "<p>184 rows × 3 columns</p>\n",
              "</div>\n",
              "    <div class=\"colab-df-buttons\">\n",
              "\n",
              "  <div class=\"colab-df-container\">\n",
              "    <button class=\"colab-df-convert\" onclick=\"convertToInteractive('df-d6514b30-7a9c-4e37-a702-cc91f0b7328f')\"\n",
              "            title=\"Convert this dataframe to an interactive table.\"\n",
              "            style=\"display:none;\">\n",
              "\n",
              "  <svg xmlns=\"http://www.w3.org/2000/svg\" height=\"24px\" viewBox=\"0 -960 960 960\">\n",
              "    <path d=\"M120-120v-720h720v720H120Zm60-500h600v-160H180v160Zm220 220h160v-160H400v160Zm0 220h160v-160H400v160ZM180-400h160v-160H180v160Zm440 0h160v-160H620v160ZM180-180h160v-160H180v160Zm440 0h160v-160H620v160Z\"/>\n",
              "  </svg>\n",
              "    </button>\n",
              "\n",
              "  <style>\n",
              "    .colab-df-container {\n",
              "      display:flex;\n",
              "      gap: 12px;\n",
              "    }\n",
              "\n",
              "    .colab-df-convert {\n",
              "      background-color: #E8F0FE;\n",
              "      border: none;\n",
              "      border-radius: 50%;\n",
              "      cursor: pointer;\n",
              "      display: none;\n",
              "      fill: #1967D2;\n",
              "      height: 32px;\n",
              "      padding: 0 0 0 0;\n",
              "      width: 32px;\n",
              "    }\n",
              "\n",
              "    .colab-df-convert:hover {\n",
              "      background-color: #E2EBFA;\n",
              "      box-shadow: 0px 1px 2px rgba(60, 64, 67, 0.3), 0px 1px 3px 1px rgba(60, 64, 67, 0.15);\n",
              "      fill: #174EA6;\n",
              "    }\n",
              "\n",
              "    .colab-df-buttons div {\n",
              "      margin-bottom: 4px;\n",
              "    }\n",
              "\n",
              "    [theme=dark] .colab-df-convert {\n",
              "      background-color: #3B4455;\n",
              "      fill: #D2E3FC;\n",
              "    }\n",
              "\n",
              "    [theme=dark] .colab-df-convert:hover {\n",
              "      background-color: #434B5C;\n",
              "      box-shadow: 0px 1px 3px 1px rgba(0, 0, 0, 0.15);\n",
              "      filter: drop-shadow(0px 1px 2px rgba(0, 0, 0, 0.3));\n",
              "      fill: #FFFFFF;\n",
              "    }\n",
              "  </style>\n",
              "\n",
              "    <script>\n",
              "      const buttonEl =\n",
              "        document.querySelector('#df-d6514b30-7a9c-4e37-a702-cc91f0b7328f button.colab-df-convert');\n",
              "      buttonEl.style.display =\n",
              "        google.colab.kernel.accessAllowed ? 'block' : 'none';\n",
              "\n",
              "      async function convertToInteractive(key) {\n",
              "        const element = document.querySelector('#df-d6514b30-7a9c-4e37-a702-cc91f0b7328f');\n",
              "        const dataTable =\n",
              "          await google.colab.kernel.invokeFunction('convertToInteractive',\n",
              "                                                    [key], {});\n",
              "        if (!dataTable) return;\n",
              "\n",
              "        const docLinkHtml = 'Like what you see? Visit the ' +\n",
              "          '<a target=\"_blank\" href=https://colab.research.google.com/notebooks/data_table.ipynb>data table notebook</a>'\n",
              "          + ' to learn more about interactive tables.';\n",
              "        element.innerHTML = '';\n",
              "        dataTable['output_type'] = 'display_data';\n",
              "        await google.colab.output.renderOutput(dataTable, element);\n",
              "        const docLink = document.createElement('div');\n",
              "        docLink.innerHTML = docLinkHtml;\n",
              "        element.appendChild(docLink);\n",
              "      }\n",
              "    </script>\n",
              "  </div>\n",
              "\n",
              "\n",
              "<div id=\"df-a8b9d147-d0ec-4f34-bb78-cbdf56448340\">\n",
              "  <button class=\"colab-df-quickchart\" onclick=\"quickchart('df-a8b9d147-d0ec-4f34-bb78-cbdf56448340')\"\n",
              "            title=\"Suggest charts\"\n",
              "            style=\"display:none;\">\n",
              "\n",
              "<svg xmlns=\"http://www.w3.org/2000/svg\" height=\"24px\"viewBox=\"0 0 24 24\"\n",
              "     width=\"24px\">\n",
              "    <g>\n",
              "        <path d=\"M19 3H5c-1.1 0-2 .9-2 2v14c0 1.1.9 2 2 2h14c1.1 0 2-.9 2-2V5c0-1.1-.9-2-2-2zM9 17H7v-7h2v7zm4 0h-2V7h2v10zm4 0h-2v-4h2v4z\"/>\n",
              "    </g>\n",
              "</svg>\n",
              "  </button>\n",
              "\n",
              "<style>\n",
              "  .colab-df-quickchart {\n",
              "      --bg-color: #E8F0FE;\n",
              "      --fill-color: #1967D2;\n",
              "      --hover-bg-color: #E2EBFA;\n",
              "      --hover-fill-color: #174EA6;\n",
              "      --disabled-fill-color: #AAA;\n",
              "      --disabled-bg-color: #DDD;\n",
              "  }\n",
              "\n",
              "  [theme=dark] .colab-df-quickchart {\n",
              "      --bg-color: #3B4455;\n",
              "      --fill-color: #D2E3FC;\n",
              "      --hover-bg-color: #434B5C;\n",
              "      --hover-fill-color: #FFFFFF;\n",
              "      --disabled-bg-color: #3B4455;\n",
              "      --disabled-fill-color: #666;\n",
              "  }\n",
              "\n",
              "  .colab-df-quickchart {\n",
              "    background-color: var(--bg-color);\n",
              "    border: none;\n",
              "    border-radius: 50%;\n",
              "    cursor: pointer;\n",
              "    display: none;\n",
              "    fill: var(--fill-color);\n",
              "    height: 32px;\n",
              "    padding: 0;\n",
              "    width: 32px;\n",
              "  }\n",
              "\n",
              "  .colab-df-quickchart:hover {\n",
              "    background-color: var(--hover-bg-color);\n",
              "    box-shadow: 0 1px 2px rgba(60, 64, 67, 0.3), 0 1px 3px 1px rgba(60, 64, 67, 0.15);\n",
              "    fill: var(--button-hover-fill-color);\n",
              "  }\n",
              "\n",
              "  .colab-df-quickchart-complete:disabled,\n",
              "  .colab-df-quickchart-complete:disabled:hover {\n",
              "    background-color: var(--disabled-bg-color);\n",
              "    fill: var(--disabled-fill-color);\n",
              "    box-shadow: none;\n",
              "  }\n",
              "\n",
              "  .colab-df-spinner {\n",
              "    border: 2px solid var(--fill-color);\n",
              "    border-color: transparent;\n",
              "    border-bottom-color: var(--fill-color);\n",
              "    animation:\n",
              "      spin 1s steps(1) infinite;\n",
              "  }\n",
              "\n",
              "  @keyframes spin {\n",
              "    0% {\n",
              "      border-color: transparent;\n",
              "      border-bottom-color: var(--fill-color);\n",
              "      border-left-color: var(--fill-color);\n",
              "    }\n",
              "    20% {\n",
              "      border-color: transparent;\n",
              "      border-left-color: var(--fill-color);\n",
              "      border-top-color: var(--fill-color);\n",
              "    }\n",
              "    30% {\n",
              "      border-color: transparent;\n",
              "      border-left-color: var(--fill-color);\n",
              "      border-top-color: var(--fill-color);\n",
              "      border-right-color: var(--fill-color);\n",
              "    }\n",
              "    40% {\n",
              "      border-color: transparent;\n",
              "      border-right-color: var(--fill-color);\n",
              "      border-top-color: var(--fill-color);\n",
              "    }\n",
              "    60% {\n",
              "      border-color: transparent;\n",
              "      border-right-color: var(--fill-color);\n",
              "    }\n",
              "    80% {\n",
              "      border-color: transparent;\n",
              "      border-right-color: var(--fill-color);\n",
              "      border-bottom-color: var(--fill-color);\n",
              "    }\n",
              "    90% {\n",
              "      border-color: transparent;\n",
              "      border-bottom-color: var(--fill-color);\n",
              "    }\n",
              "  }\n",
              "</style>\n",
              "\n",
              "  <script>\n",
              "    async function quickchart(key) {\n",
              "      const quickchartButtonEl =\n",
              "        document.querySelector('#' + key + ' button');\n",
              "      quickchartButtonEl.disabled = true;  // To prevent multiple clicks.\n",
              "      quickchartButtonEl.classList.add('colab-df-spinner');\n",
              "      try {\n",
              "        const charts = await google.colab.kernel.invokeFunction(\n",
              "            'suggestCharts', [key], {});\n",
              "      } catch (error) {\n",
              "        console.error('Error during call to suggestCharts:', error);\n",
              "      }\n",
              "      quickchartButtonEl.classList.remove('colab-df-spinner');\n",
              "      quickchartButtonEl.classList.add('colab-df-quickchart-complete');\n",
              "    }\n",
              "    (() => {\n",
              "      let quickchartButtonEl =\n",
              "        document.querySelector('#df-a8b9d147-d0ec-4f34-bb78-cbdf56448340 button');\n",
              "      quickchartButtonEl.style.display =\n",
              "        google.colab.kernel.accessAllowed ? 'block' : 'none';\n",
              "    })();\n",
              "  </script>\n",
              "</div>\n",
              "\n",
              "  <div id=\"id_16437553-13c8-4596-97b7-1fb6394d1e83\">\n",
              "    <style>\n",
              "      .colab-df-generate {\n",
              "        background-color: #E8F0FE;\n",
              "        border: none;\n",
              "        border-radius: 50%;\n",
              "        cursor: pointer;\n",
              "        display: none;\n",
              "        fill: #1967D2;\n",
              "        height: 32px;\n",
              "        padding: 0 0 0 0;\n",
              "        width: 32px;\n",
              "      }\n",
              "\n",
              "      .colab-df-generate:hover {\n",
              "        background-color: #E2EBFA;\n",
              "        box-shadow: 0px 1px 2px rgba(60, 64, 67, 0.3), 0px 1px 3px 1px rgba(60, 64, 67, 0.15);\n",
              "        fill: #174EA6;\n",
              "      }\n",
              "\n",
              "      [theme=dark] .colab-df-generate {\n",
              "        background-color: #3B4455;\n",
              "        fill: #D2E3FC;\n",
              "      }\n",
              "\n",
              "      [theme=dark] .colab-df-generate:hover {\n",
              "        background-color: #434B5C;\n",
              "        box-shadow: 0px 1px 3px 1px rgba(0, 0, 0, 0.15);\n",
              "        filter: drop-shadow(0px 1px 2px rgba(0, 0, 0, 0.3));\n",
              "        fill: #FFFFFF;\n",
              "      }\n",
              "    </style>\n",
              "    <button class=\"colab-df-generate\" onclick=\"generateWithVariable('tournament_history')\"\n",
              "            title=\"Generate code using this dataframe.\"\n",
              "            style=\"display:none;\">\n",
              "\n",
              "  <svg xmlns=\"http://www.w3.org/2000/svg\" height=\"24px\"viewBox=\"0 0 24 24\"\n",
              "       width=\"24px\">\n",
              "    <path d=\"M7,19H8.4L18.45,9,17,7.55,7,17.6ZM5,21V16.75L18.45,3.32a2,2,0,0,1,2.83,0l1.4,1.43a1.91,1.91,0,0,1,.58,1.4,1.91,1.91,0,0,1-.58,1.4L9.25,21ZM18.45,9,17,7.55Zm-12,3A5.31,5.31,0,0,0,4.9,8.1,5.31,5.31,0,0,0,1,6.5,5.31,5.31,0,0,0,4.9,4.9,5.31,5.31,0,0,0,6.5,1,5.31,5.31,0,0,0,8.1,4.9,5.31,5.31,0,0,0,12,6.5,5.46,5.46,0,0,0,6.5,12Z\"/>\n",
              "  </svg>\n",
              "    </button>\n",
              "    <script>\n",
              "      (() => {\n",
              "      const buttonEl =\n",
              "        document.querySelector('#id_16437553-13c8-4596-97b7-1fb6394d1e83 button.colab-df-generate');\n",
              "      buttonEl.style.display =\n",
              "        google.colab.kernel.accessAllowed ? 'block' : 'none';\n",
              "\n",
              "      buttonEl.onclick = () => {\n",
              "        google.colab.notebook.generateWithVariable('tournament_history');\n",
              "      }\n",
              "      })();\n",
              "    </script>\n",
              "  </div>\n",
              "\n",
              "    </div>\n",
              "  </div>\n"
            ],
            "application/vnd.google.colaboratory.intrinsic+json": {
              "type": "dataframe",
              "variable_name": "tournament_history",
              "summary": "{\n  \"name\": \"tournament_history\",\n  \"rows\": 184,\n  \"fields\": [\n    {\n      \"column\": \"TeamA\",\n      \"properties\": {\n        \"dtype\": \"number\",\n        \"std\": 1,\n        \"min\": 0,\n        \"max\": 3,\n        \"num_unique_values\": 4,\n        \"samples\": [\n          3,\n          0,\n          2\n        ],\n        \"semantic_type\": \"\",\n        \"description\": \"\"\n      }\n    },\n    {\n      \"column\": \"TeamB\",\n      \"properties\": {\n        \"dtype\": \"number\",\n        \"std\": 1,\n        \"min\": 0,\n        \"max\": 3,\n        \"num_unique_values\": 4,\n        \"samples\": [\n          1,\n          2,\n          0\n        ],\n        \"semantic_type\": \"\",\n        \"description\": \"\"\n      }\n    },\n    {\n      \"column\": \"Result\",\n      \"properties\": {\n        \"dtype\": \"number\",\n        \"std\": 0,\n        \"min\": 0,\n        \"max\": 1,\n        \"num_unique_values\": 2,\n        \"samples\": [\n          1,\n          0\n        ],\n        \"semantic_type\": \"\",\n        \"description\": \"\"\n      }\n    }\n  ]\n}"
            }
          },
          "metadata": {},
          "execution_count": 32
        }
      ]
    },
    {
      "cell_type": "markdown",
      "source": [
        "**NOTE1:** Teams and matches are not guaranteed to appear in any specific order in the file. This means that you will find (for example) matches indexed as (0,3) but also as (3,0). If we ignore the order in our estimate, those two should contribute to the same $p_{03}$.\n",
        "\n",
        "**NOTE2:** If you reorder the first two columns to make counting matches easier, remember to keep the result consistent! E.g. if you switch a (3,0) match with result 1 into a (0,3) the new result is now 0!!!\n"
      ],
      "metadata": {
        "id": "sDsxv5bMbIaj"
      }
    },
    {
      "cell_type": "code",
      "source": [],
      "metadata": {
        "id": "YYIggjtKZ8X7"
      },
      "execution_count": null,
      "outputs": []
    },
    {
      "cell_type": "code",
      "source": [],
      "metadata": {
        "id": "llqp36a5mCu-"
      },
      "execution_count": null,
      "outputs": []
    },
    {
      "cell_type": "code",
      "source": [],
      "metadata": {
        "id": "HQ4XDj42mCw7"
      },
      "execution_count": null,
      "outputs": []
    },
    {
      "cell_type": "code",
      "source": [],
      "metadata": {
        "id": "OBxbaHTOmCzc"
      },
      "execution_count": null,
      "outputs": []
    },
    {
      "cell_type": "markdown",
      "source": [
        "# ELO Ratings and Win probabilities\n",
        "\n",
        "The ELO rating system gives a way of computing the probability that team $i$ beats team $j$ by giving each team a _score_, the so-called ELO score. Given ELO scores $R_i$ and $R_j$ for the two teams, the win probability is\n",
        "$$p_{i,j} = \\frac{1}{1+10^{(R_i-R_j)/40}}.$$\n",
        "\n",
        "Thus given a list of ELO scores we can compute the pair probability matrix $P$ discussed above and redo our simulations.\n",
        "\n",
        "For fun, lets take the [ELO scores](https://neilpaine.substack.com/p/2023-nfl-elo-ratings-and-win-projections) for the NFL playoffs from Neil Paine (who used to work at 538), and simulate this years NFL playoffs from the divison finals onwards.\n",
        "\n",
        "|Team Number| Team Name | ELO Score |\n",
        "|---| --- | --- |\n",
        "|0| 49ers | 1719 |\n",
        "|1|  Lions| 1605 |\n",
        "|2 | Ravens | 1685 |\n",
        "|3 |Chiefs| 1689|"
      ],
      "metadata": {
        "id": "eA0ko1pomESY"
      }
    },
    {
      "cell_type": "code",
      "source": [
        "draw=[[0,1],[2,3]]\n",
        "elo_scores = [1719,1605,1685,1689]\n",
        "N = len(elo_scores)"
      ],
      "metadata": {
        "id": "ixBWUXO166Op"
      },
      "execution_count": null,
      "outputs": []
    },
    {
      "cell_type": "code",
      "source": [
        "def convert_elo_to_pair_probabilities(elo_scores, S=400):\n",
        "    \"\"\"\n",
        "    Converts a list of ELO scores to a matrix of pairwise winning probabilities.\n",
        "\n",
        "    Args:\n",
        "        elo_scores: A list of ELO scores for each team.\n",
        "\n",
        "    Returns:\n",
        "        A NumPy array of pairwise winning probabilities.\n",
        "    \"\"\"\n",
        "\n",
        "    # Create an empty matrix to store the probabilities.\n",
        "    probabilities = np.zeros((len(elo_scores), len(elo_scores)))\n",
        "\n",
        "  # Calculate the probability of each team winning against each other team.\n",
        "    for i in range(len(elo_scores)):\n",
        "\n",
        "        probabilities[i, i] = 0.5\n",
        "\n",
        "        for j in range(i + 1, len(elo_scores)):\n",
        "            # Calculate the expected score difference.\n",
        "            expected_score_diff = (elo_scores[i] - elo_scores[j]) / S\n",
        "\n",
        "            # Calculate the probability of team i winning.\n",
        "            probability_i = 1 / (1 + 10**(-expected_score_diff))\n",
        "\n",
        "            # Set the probabilities for both i vs j and j vs i (since they are equivalent).\n",
        "            probabilities[i, j] = probability_i\n",
        "            probabilities[j, i] = 1 - probability_i\n",
        "\n",
        "    return probabilities"
      ],
      "metadata": {
        "id": "o6aDfVlV66Rw"
      },
      "execution_count": null,
      "outputs": []
    },
    {
      "cell_type": "code",
      "source": [
        "#pairwise prob. matrix\n",
        "P = convert_elo_to_pair_probabilities(elo_scores)"
      ],
      "metadata": {
        "id": "hWsqoge766UN"
      },
      "execution_count": null,
      "outputs": []
    },
    {
      "cell_type": "code",
      "source": [
        "heatmap = plt.imshow(P, cmap='bwr', vmin=0., vmax=1.)\n",
        "\n",
        "cbar = plt.colorbar()\n",
        "cbar.set_label(r'$p_{ij}$', rotation=0, labelpad=20)\n",
        "\n",
        "# Set integer ticks for both axes\n",
        "plt.xticks(np.arange(N), np.arange(N))\n",
        "plt.yticks(np.arange(N), np.arange(N))\n",
        "\n",
        "for i in range(N):\n",
        "    for j in range(N):\n",
        "        plt.text(j, i, f'{P[i, j]:.2f}', ha='center', va='center', color='black')"
      ],
      "metadata": {
        "colab": {
          "base_uri": "https://localhost:8080/",
          "height": 465
        },
        "id": "b9M3O47566W5",
        "outputId": "f71dbe03-67fe-4dc7-de16-c17f6bab9070"
      },
      "execution_count": null,
      "outputs": [
        {
          "output_type": "display_data",
          "data": {
            "text/plain": [
              "<Figure size 640x480 with 2 Axes>"
            ],
            "image/png": "[encoded data removed]"
          },
          "metadata": {}
        }
      ]
    },
    {
      "cell_type": "code",
      "source": [
        "dict_wins = simulate_ensemble(draw, P, n_trials=10000)"
      ],
      "metadata": {
        "id": "tZ56Owsu66ZL"
      },
      "execution_count": null,
      "outputs": []
    },
    {
      "cell_type": "code",
      "source": [
        "print('Tournament winning probabilities:')\n",
        "print('---------------------------------\\n')\n",
        "\n",
        "for team in sorted(dict_wins):\n",
        "\n",
        "    p = dict_wins[team] / n_trials\n",
        "\n",
        "    print(f'Team {team}:\\t{p:.3f}')"
      ],
      "metadata": {
        "colab": {
          "base_uri": "https://localhost:8080/"
        },
        "id": "Bt0auf6066ba",
        "outputId": "377498ba-3bde-4ab0-90c8-8a933591dbf0"
      },
      "execution_count": null,
      "outputs": [
        {
          "output_type": "stream",
          "name": "stdout",
          "text": [
            "Tournament winning probabilities:\n",
            "---------------------------------\n",
            "\n",
            "Team 0:\t0.369\n",
            "Team 1:\t0.126\n",
            "Team 2:\t0.245\n",
            "Team 3:\t0.260\n"
          ]
        }
      ]
    },
    {
      "cell_type": "code",
      "source": [],
      "metadata": {
        "id": "MtRt3pqO66d9"
      },
      "execution_count": null,
      "outputs": []
    },
    {
      "cell_type": "code",
      "source": [],
      "metadata": {
        "id": "ww7gMLFO66iv"
      },
      "execution_count": null,
      "outputs": []
    },
    {
      "cell_type": "markdown",
      "source": [
        "# Elo Ratings from data\n",
        "\n",
        "While in the section above we used scores that were pre-computed for us by someone else, nothing forbids that we calculate our own scores starting from the historical data of wins and losses. That's what we will do in this section, using the results of the games played in the regular NFL season of 2023."
      ],
      "metadata": {
        "id": "0B-h-uZ76ytK"
      }
    },
    {
      "cell_type": "markdown",
      "source": [
        "## Load NFL 2023 results"
      ],
      "metadata": {
        "id": "inulNyP6uHqq"
      }
    },
    {
      "cell_type": "code",
      "source": [
        "!git clone https://github.com/fmottes/Harvard-AM115-2024.git\n",
        "\n",
        "DATA_PATH = 'Harvard-AM115-2024/Data/'"
      ],
      "metadata": {
        "colab": {
          "base_uri": "https://localhost:8080/"
        },
        "id": "ToqwztvyuDUe",
        "outputId": "856ed92c-529e-4134-a464-47a75608975b"
      },
      "execution_count": null,
      "outputs": [
        {
          "output_type": "stream",
          "name": "stdout",
          "text": [
            "fatal: destination path 'Harvard-AM115-2024' already exists and is not an empty directory.\n"
          ]
        }
      ]
    },
    {
      "cell_type": "code",
      "source": [
        "import pandas as pd\n",
        "\n",
        "#homework file with data\n",
        "with open(DATA_PATH+'L04-NFL2023.csv', 'r') as fh:\n",
        "    nfl_games = pd.read_csv(fh)\n",
        "\n",
        "#consider only regular season (18 weeks)\n",
        "nfl_games = nfl_games[:272]"
      ],
      "metadata": {
        "id": "JtEf5S-Juvd2"
      },
      "execution_count": null,
      "outputs": []
    },
    {
      "cell_type": "code",
      "source": [
        "nfl_games"
      ],
      "metadata": {
        "colab": {
          "base_uri": "https://localhost:8080/",
          "height": 424
        },
        "id": "hb20jOoZ1_M7",
        "outputId": "7f6c6b5f-5b1f-4b9d-8241-dc1da250c5d8"
      },
      "execution_count": null,
      "outputs": [
        {
          "output_type": "execute_result",
          "data": {
            "text/plain": [
              "    Week  Day        Date    Time             Winner/tie Unnamed: 5  \\\n",
              "0      1  Thu  2023-09-07  8:20PM          Detroit Lions          @   \n",
              "1      1  Sun  2023-09-10  1:00PM        Atlanta Falcons        NaN   \n",
              "2      1  Sun  2023-09-10  1:00PM       Cleveland Browns        NaN   \n",
              "3      1  Sun  2023-09-10  1:00PM   Jacksonville Jaguars          @   \n",
              "4      1  Sun  2023-09-10  1:00PM  Washington Commanders        NaN   \n",
              "..   ...  ...         ...     ...                    ...        ...   \n",
              "267   18  Sun  2024-01-07  4:25PM      Las Vegas Raiders        NaN   \n",
              "268   18  Sun  2024-01-07  4:25PM     Kansas City Chiefs          @   \n",
              "269   18  Sun  2024-01-07  4:25PM        New York Giants        NaN   \n",
              "270   18  Sun  2024-01-07  4:25PM       Los Angeles Rams          @   \n",
              "271   18  Sun  2024-01-07  8:20PM          Buffalo Bills          @   \n",
              "\n",
              "                Loser/tie Unnamed: 7  PtsW  PtsL   YdsW  TOW   YdsL  TOL  \n",
              "0      Kansas City Chiefs   boxscore  21.0  20.0  368.0  1.0  316.0  1.0  \n",
              "1       Carolina Panthers   boxscore  24.0  10.0  221.0  0.0  281.0  3.0  \n",
              "2      Cincinnati Bengals   boxscore  24.0   3.0  350.0  2.0  142.0  0.0  \n",
              "3      Indianapolis Colts   boxscore  31.0  21.0  342.0  2.0  280.0  3.0  \n",
              "4       Arizona Cardinals   boxscore  20.0  16.0  248.0  3.0  210.0  2.0  \n",
              "..                    ...        ...   ...   ...    ...  ...    ...  ...  \n",
              "267        Denver Broncos   boxscore  27.0  14.0  359.0  0.0  286.0  1.0  \n",
              "268  Los Angeles Chargers   boxscore  13.0  12.0  268.0  1.0  353.0  1.0  \n",
              "269   Philadelphia Eagles   boxscore  27.0  10.0  415.0  1.0  299.0  4.0  \n",
              "270   San Francisco 49ers   boxscore  21.0  20.0  258.0  1.0  300.0  1.0  \n",
              "271        Miami Dolphins   boxscore  21.0  14.0  473.0  3.0  275.0  2.0  \n",
              "\n",
              "[272 rows x 14 columns]"
            ],
            "text/html": [
              "\n",
              "  <div id=\"df-d8c620f2-cb12-4836-95fd-628c62915187\" class=\"colab-df-container\">\n",
              "    <div>\n",
              "<style scoped>\n",
              "    .dataframe tbody tr th:only-of-type {\n",
              "        vertical-align: middle;\n",
              "    }\n",
              "\n",
              "    .dataframe tbody tr th {\n",
              "        vertical-align: top;\n",
              "    }\n",
              "\n",
              "    .dataframe thead th {\n",
              "        text-align: right;\n",
              "    }\n",
              "</style>\n",
              "<table border=\"1\" class=\"dataframe\">\n",
              "  <thead>\n",
              "    <tr style=\"text-align: right;\">\n",
              "      <th></th>\n",
              "      <th>Week</th>\n",
              "      <th>Day</th>\n",
              "      <th>Date</th>\n",
              "      <th>Time</th>\n",
              "      <th>Winner/tie</th>\n",
              "      <th>Unnamed: 5</th>\n",
              "      <th>Loser/tie</th>\n",
              "      <th>Unnamed: 7</th>\n",
              "      <th>PtsW</th>\n",
              "      <th>PtsL</th>\n",
              "      <th>YdsW</th>\n",
              "      <th>TOW</th>\n",
              "      <th>YdsL</th>\n",
              "      <th>TOL</th>\n",
              "    </tr>\n",
              "  </thead>\n",
              "  <tbody>\n",
              "    <tr>\n",
              "      <th>0</th>\n",
              "      <td>1</td>\n",
              "      <td>Thu</td>\n",
              "      <td>2023-09-07</td>\n",
              "      <td>8:20PM</td>\n",
              "      <td>Detroit Lions</td>\n",
              "      <td>@</td>\n",
              "      <td>Kansas City Chiefs</td>\n",
              "      <td>boxscore</td>\n",
              "      <td>21.0</td>\n",
              "      <td>20.0</td>\n",
              "      <td>368.0</td>\n",
              "      <td>1.0</td>\n",
              "      <td>316.0</td>\n",
              "      <td>1.0</td>\n",
              "    </tr>\n",
              "    <tr>\n",
              "      <th>1</th>\n",
              "      <td>1</td>\n",
              "      <td>Sun</td>\n",
              "      <td>2023-09-10</td>\n",
              "      <td>1:00PM</td>\n",
              "      <td>Atlanta Falcons</td>\n",
              "      <td>NaN</td>\n",
              "      <td>Carolina Panthers</td>\n",
              "      <td>boxscore</td>\n",
              "      <td>24.0</td>\n",
              "      <td>10.0</td>\n",
              "      <td>221.0</td>\n",
              "      <td>0.0</td>\n",
              "      <td>281.0</td>\n",
              "      <td>3.0</td>\n",
              "    </tr>\n",
              "    <tr>\n",
              "      <th>2</th>\n",
              "      <td>1</td>\n",
              "      <td>Sun</td>\n",
              "      <td>2023-09-10</td>\n",
              "      <td>1:00PM</td>\n",
              "      <td>Cleveland Browns</td>\n",
              "      <td>NaN</td>\n",
              "      <td>Cincinnati Bengals</td>\n",
              "      <td>boxscore</td>\n",
              "      <td>24.0</td>\n",
              "      <td>3.0</td>\n",
              "      <td>350.0</td>\n",
              "      <td>2.0</td>\n",
              "      <td>142.0</td>\n",
              "      <td>0.0</td>\n",
              "    </tr>\n",
              "    <tr>\n",
              "      <th>3</th>\n",
              "      <td>1</td>\n",
              "      <td>Sun</td>\n",
              "      <td>2023-09-10</td>\n",
              "      <td>1:00PM</td>\n",
              "      <td>Jacksonville Jaguars</td>\n",
              "      <td>@</td>\n",
              "      <td>Indianapolis Colts</td>\n",
              "      <td>boxscore</td>\n",
              "      <td>31.0</td>\n",
              "      <td>21.0</td>\n",
              "      <td>342.0</td>\n",
              "      <td>2.0</td>\n",
              "      <td>280.0</td>\n",
              "      <td>3.0</td>\n",
              "    </tr>\n",
              "    <tr>\n",
              "      <th>4</th>\n",
              "      <td>1</td>\n",
              "      <td>Sun</td>\n",
              "      <td>2023-09-10</td>\n",
              "      <td>1:00PM</td>\n",
              "      <td>Washington Commanders</td>\n",
              "      <td>NaN</td>\n",
              "      <td>Arizona Cardinals</td>\n",
              "      <td>boxscore</td>\n",
              "      <td>20.0</td>\n",
              "      <td>16.0</td>\n",
              "      <td>248.0</td>\n",
              "      <td>3.0</td>\n",
              "      <td>210.0</td>\n",
              "      <td>2.0</td>\n",
              "    </tr>\n",
              "    <tr>\n",
              "      <th>...</th>\n",
              "      <td>...</td>\n",
              "      <td>...</td>\n",
              "      <td>...</td>\n",
              "      <td>...</td>\n",
              "      <td>...</td>\n",
              "      <td>...</td>\n",
              "      <td>...</td>\n",
              "      <td>...</td>\n",
              "      <td>...</td>\n",
              "      <td>...</td>\n",
              "      <td>...</td>\n",
              "      <td>...</td>\n",
              "      <td>...</td>\n",
              "      <td>...</td>\n",
              "    </tr>\n",
              "    <tr>\n",
              "      <th>267</th>\n",
              "      <td>18</td>\n",
              "      <td>Sun</td>\n",
              "      <td>2024-01-07</td>\n",
              "      <td>4:25PM</td>\n",
              "      <td>Las Vegas Raiders</td>\n",
              "      <td>NaN</td>\n",
              "      <td>Denver Broncos</td>\n",
              "      <td>boxscore</td>\n",
              "      <td>27.0</td>\n",
              "      <td>14.0</td>\n",
              "      <td>359.0</td>\n",
              "      <td>0.0</td>\n",
              "      <td>286.0</td>\n",
              "      <td>1.0</td>\n",
              "    </tr>\n",
              "    <tr>\n",
              "      <th>268</th>\n",
              "      <td>18</td>\n",
              "      <td>Sun</td>\n",
              "      <td>2024-01-07</td>\n",
              "      <td>4:25PM</td>\n",
              "      <td>Kansas City Chiefs</td>\n",
              "      <td>@</td>\n",
              "      <td>Los Angeles Chargers</td>\n",
              "      <td>boxscore</td>\n",
              "      <td>13.0</td>\n",
              "      <td>12.0</td>\n",
              "      <td>268.0</td>\n",
              "      <td>1.0</td>\n",
              "      <td>353.0</td>\n",
              "      <td>1.0</td>\n",
              "    </tr>\n",
              "    <tr>\n",
              "      <th>269</th>\n",
              "      <td>18</td>\n",
              "      <td>Sun</td>\n",
              "      <td>2024-01-07</td>\n",
              "      <td>4:25PM</td>\n",
              "      <td>New York Giants</td>\n",
              "      <td>NaN</td>\n",
              "      <td>Philadelphia Eagles</td>\n",
              "      <td>boxscore</td>\n",
              "      <td>27.0</td>\n",
              "      <td>10.0</td>\n",
              "      <td>415.0</td>\n",
              "      <td>1.0</td>\n",
              "      <td>299.0</td>\n",
              "      <td>4.0</td>\n",
              "    </tr>\n",
              "    <tr>\n",
              "      <th>270</th>\n",
              "      <td>18</td>\n",
              "      <td>Sun</td>\n",
              "      <td>2024-01-07</td>\n",
              "      <td>4:25PM</td>\n",
              "      <td>Los Angeles Rams</td>\n",
              "      <td>@</td>\n",
              "      <td>San Francisco 49ers</td>\n",
              "      <td>boxscore</td>\n",
              "      <td>21.0</td>\n",
              "      <td>20.0</td>\n",
              "      <td>258.0</td>\n",
              "      <td>1.0</td>\n",
              "      <td>300.0</td>\n",
              "      <td>1.0</td>\n",
              "    </tr>\n",
              "    <tr>\n",
              "      <th>271</th>\n",
              "      <td>18</td>\n",
              "      <td>Sun</td>\n",
              "      <td>2024-01-07</td>\n",
              "      <td>8:20PM</td>\n",
              "      <td>Buffalo Bills</td>\n",
              "      <td>@</td>\n",
              "      <td>Miami Dolphins</td>\n",
              "      <td>boxscore</td>\n",
              "      <td>21.0</td>\n",
              "      <td>14.0</td>\n",
              "      <td>473.0</td>\n",
              "      <td>3.0</td>\n",
              "      <td>275.0</td>\n",
              "      <td>2.0</td>\n",
              "    </tr>\n",
              "  </tbody>\n",
              "</table>\n",
              "<p>272 rows × 14 columns</p>\n",
              "</div>\n",
              "    <div class=\"colab-df-buttons\">\n",
              "\n",
              "  <div class=\"colab-df-container\">\n",
              "    <button class=\"colab-df-convert\" onclick=\"convertToInteractive('df-d8c620f2-cb12-4836-95fd-628c62915187')\"\n",
              "            title=\"Convert this dataframe to an interactive table.\"\n",
              "            style=\"display:none;\">\n",
              "\n",
              "  <svg xmlns=\"http://www.w3.org/2000/svg\" height=\"24px\" viewBox=\"0 -960 960 960\">\n",
              "    <path d=\"M120-120v-720h720v720H120Zm60-500h600v-160H180v160Zm220 220h160v-160H400v160Zm0 220h160v-160H400v160ZM180-400h160v-160H180v160Zm440 0h160v-160H620v160ZM180-180h160v-160H180v160Zm440 0h160v-160H620v160Z\"/>\n",
              "  </svg>\n",
              "    </button>\n",
              "\n",
              "  <style>\n",
              "    .colab-df-container {\n",
              "      display:flex;\n",
              "      gap: 12px;\n",
              "    }\n",
              "\n",
              "    .colab-df-convert {\n",
              "      background-color: #E8F0FE;\n",
              "      border: none;\n",
              "      border-radius: 50%;\n",
              "      cursor: pointer;\n",
              "      display: none;\n",
              "      fill: #1967D2;\n",
              "      height: 32px;\n",
              "      padding: 0 0 0 0;\n",
              "      width: 32px;\n",
              "    }\n",
              "\n",
              "    .colab-df-convert:hover {\n",
              "      background-color: #E2EBFA;\n",
              "      box-shadow: 0px 1px 2px rgba(60, 64, 67, 0.3), 0px 1px 3px 1px rgba(60, 64, 67, 0.15);\n",
              "      fill: #174EA6;\n",
              "    }\n",
              "\n",
              "    .colab-df-buttons div {\n",
              "      margin-bottom: 4px;\n",
              "    }\n",
              "\n",
              "    [theme=dark] .colab-df-convert {\n",
              "      background-color: #3B4455;\n",
              "      fill: #D2E3FC;\n",
              "    }\n",
              "\n",
              "    [theme=dark] .colab-df-convert:hover {\n",
              "      background-color: #434B5C;\n",
              "      box-shadow: 0px 1px 3px 1px rgba(0, 0, 0, 0.15);\n",
              "      filter: drop-shadow(0px 1px 2px rgba(0, 0, 0, 0.3));\n",
              "      fill: #FFFFFF;\n",
              "    }\n",
              "  </style>\n",
              "\n",
              "    <script>\n",
              "      const buttonEl =\n",
              "        document.querySelector('#df-d8c620f2-cb12-4836-95fd-628c62915187 button.colab-df-convert');\n",
              "      buttonEl.style.display =\n",
              "        google.colab.kernel.accessAllowed ? 'block' : 'none';\n",
              "\n",
              "      async function convertToInteractive(key) {\n",
              "        const element = document.querySelector('#df-d8c620f2-cb12-4836-95fd-628c62915187');\n",
              "        const dataTable =\n",
              "          await google.colab.kernel.invokeFunction('convertToInteractive',\n",
              "                                                    [key], {});\n",
              "        if (!dataTable) return;\n",
              "\n",
              "        const docLinkHtml = 'Like what you see? Visit the ' +\n",
              "          '<a target=\"_blank\" href=https://colab.research.google.com/notebooks/data_table.ipynb>data table notebook</a>'\n",
              "          + ' to learn more about interactive tables.';\n",
              "        element.innerHTML = '';\n",
              "        dataTable['output_type'] = 'display_data';\n",
              "        await google.colab.output.renderOutput(dataTable, element);\n",
              "        const docLink = document.createElement('div');\n",
              "        docLink.innerHTML = docLinkHtml;\n",
              "        element.appendChild(docLink);\n",
              "      }\n",
              "    </script>\n",
              "  </div>\n",
              "\n",
              "\n",
              "<div id=\"df-99c2ee20-09a8-4b15-a018-b90ecc33c9f4\">\n",
              "  <button class=\"colab-df-quickchart\" onclick=\"quickchart('df-99c2ee20-09a8-4b15-a018-b90ecc33c9f4')\"\n",
              "            title=\"Suggest charts\"\n",
              "            style=\"display:none;\">\n",
              "\n",
              "<svg xmlns=\"http://www.w3.org/2000/svg\" height=\"24px\"viewBox=\"0 0 24 24\"\n",
              "     width=\"24px\">\n",
              "    <g>\n",
              "        <path d=\"M19 3H5c-1.1 0-2 .9-2 2v14c0 1.1.9 2 2 2h14c1.1 0 2-.9 2-2V5c0-1.1-.9-2-2-2zM9 17H7v-7h2v7zm4 0h-2V7h2v10zm4 0h-2v-4h2v4z\"/>\n",
              "    </g>\n",
              "</svg>\n",
              "  </button>\n",
              "\n",
              "<style>\n",
              "  .colab-df-quickchart {\n",
              "      --bg-color: #E8F0FE;\n",
              "      --fill-color: #1967D2;\n",
              "      --hover-bg-color: #E2EBFA;\n",
              "      --hover-fill-color: #174EA6;\n",
              "      --disabled-fill-color: #AAA;\n",
              "      --disabled-bg-color: #DDD;\n",
              "  }\n",
              "\n",
              "  [theme=dark] .colab-df-quickchart {\n",
              "      --bg-color: #3B4455;\n",
              "      --fill-color: #D2E3FC;\n",
              "      --hover-bg-color: #434B5C;\n",
              "      --hover-fill-color: #FFFFFF;\n",
              "      --disabled-bg-color: #3B4455;\n",
              "      --disabled-fill-color: #666;\n",
              "  }\n",
              "\n",
              "  .colab-df-quickchart {\n",
              "    background-color: var(--bg-color);\n",
              "    border: none;\n",
              "    border-radius: 50%;\n",
              "    cursor: pointer;\n",
              "    display: none;\n",
              "    fill: var(--fill-color);\n",
              "    height: 32px;\n",
              "    padding: 0;\n",
              "    width: 32px;\n",
              "  }\n",
              "\n",
              "  .colab-df-quickchart:hover {\n",
              "    background-color: var(--hover-bg-color);\n",
              "    box-shadow: 0 1px 2px rgba(60, 64, 67, 0.3), 0 1px 3px 1px rgba(60, 64, 67, 0.15);\n",
              "    fill: var(--button-hover-fill-color);\n",
              "  }\n",
              "\n",
              "  .colab-df-quickchart-complete:disabled,\n",
              "  .colab-df-quickchart-complete:disabled:hover {\n",
              "    background-color: var(--disabled-bg-color);\n",
              "    fill: var(--disabled-fill-color);\n",
              "    box-shadow: none;\n",
              "  }\n",
              "\n",
              "  .colab-df-spinner {\n",
              "    border: 2px solid var(--fill-color);\n",
              "    border-color: transparent;\n",
              "    border-bottom-color: var(--fill-color);\n",
              "    animation:\n",
              "      spin 1s steps(1) infinite;\n",
              "  }\n",
              "\n",
              "  @keyframes spin {\n",
              "    0% {\n",
              "      border-color: transparent;\n",
              "      border-bottom-color: var(--fill-color);\n",
              "      border-left-color: var(--fill-color);\n",
              "    }\n",
              "    20% {\n",
              "      border-color: transparent;\n",
              "      border-left-color: var(--fill-color);\n",
              "      border-top-color: var(--fill-color);\n",
              "    }\n",
              "    30% {\n",
              "      border-color: transparent;\n",
              "      border-left-color: var(--fill-color);\n",
              "      border-top-color: var(--fill-color);\n",
              "      border-right-color: var(--fill-color);\n",
              "    }\n",
              "    40% {\n",
              "      border-color: transparent;\n",
              "      border-right-color: var(--fill-color);\n",
              "      border-top-color: var(--fill-color);\n",
              "    }\n",
              "    60% {\n",
              "      border-color: transparent;\n",
              "      border-right-color: var(--fill-color);\n",
              "    }\n",
              "    80% {\n",
              "      border-color: transparent;\n",
              "      border-right-color: var(--fill-color);\n",
              "      border-bottom-color: var(--fill-color);\n",
              "    }\n",
              "    90% {\n",
              "      border-color: transparent;\n",
              "      border-bottom-color: var(--fill-color);\n",
              "    }\n",
              "  }\n",
              "</style>\n",
              "\n",
              "  <script>\n",
              "    async function quickchart(key) {\n",
              "      const quickchartButtonEl =\n",
              "        document.querySelector('#' + key + ' button');\n",
              "      quickchartButtonEl.disabled = true;  // To prevent multiple clicks.\n",
              "      quickchartButtonEl.classList.add('colab-df-spinner');\n",
              "      try {\n",
              "        const charts = await google.colab.kernel.invokeFunction(\n",
              "            'suggestCharts', [key], {});\n",
              "      } catch (error) {\n",
              "        console.error('Error during call to suggestCharts:', error);\n",
              "      }\n",
              "      quickchartButtonEl.classList.remove('colab-df-spinner');\n",
              "      quickchartButtonEl.classList.add('colab-df-quickchart-complete');\n",
              "    }\n",
              "    (() => {\n",
              "      let quickchartButtonEl =\n",
              "        document.querySelector('#df-99c2ee20-09a8-4b15-a018-b90ecc33c9f4 button');\n",
              "      quickchartButtonEl.style.display =\n",
              "        google.colab.kernel.accessAllowed ? 'block' : 'none';\n",
              "    })();\n",
              "  </script>\n",
              "</div>\n",
              "\n",
              "  <div id=\"id_6a18c3be-0792-48ad-8440-24719fbc3195\">\n",
              "    <style>\n",
              "      .colab-df-generate {\n",
              "        background-color: #E8F0FE;\n",
              "        border: none;\n",
              "        border-radius: 50%;\n",
              "        cursor: pointer;\n",
              "        display: none;\n",
              "        fill: #1967D2;\n",
              "        height: 32px;\n",
              "        padding: 0 0 0 0;\n",
              "        width: 32px;\n",
              "      }\n",
              "\n",
              "      .colab-df-generate:hover {\n",
              "        background-color: #E2EBFA;\n",
              "        box-shadow: 0px 1px 2px rgba(60, 64, 67, 0.3), 0px 1px 3px 1px rgba(60, 64, 67, 0.15);\n",
              "        fill: #174EA6;\n",
              "      }\n",
              "\n",
              "      [theme=dark] .colab-df-generate {\n",
              "        background-color: #3B4455;\n",
              "        fill: #D2E3FC;\n",
              "      }\n",
              "\n",
              "      [theme=dark] .colab-df-generate:hover {\n",
              "        background-color: #434B5C;\n",
              "        box-shadow: 0px 1px 3px 1px rgba(0, 0, 0, 0.15);\n",
              "        filter: drop-shadow(0px 1px 2px rgba(0, 0, 0, 0.3));\n",
              "        fill: #FFFFFF;\n",
              "      }\n",
              "    </style>\n",
              "    <button class=\"colab-df-generate\" onclick=\"generateWithVariable('nfl_games')\"\n",
              "            title=\"Generate code using this dataframe.\"\n",
              "            style=\"display:none;\">\n",
              "\n",
              "  <svg xmlns=\"http://www.w3.org/2000/svg\" height=\"24px\"viewBox=\"0 0 24 24\"\n",
              "       width=\"24px\">\n",
              "    <path d=\"M7,19H8.4L18.45,9,17,7.55,7,17.6ZM5,21V16.75L18.45,3.32a2,2,0,0,1,2.83,0l1.4,1.43a1.91,1.91,0,0,1,.58,1.4,1.91,1.91,0,0,1-.58,1.4L9.25,21ZM18.45,9,17,7.55Zm-12,3A5.31,5.31,0,0,0,4.9,8.1,5.31,5.31,0,0,0,1,6.5,5.31,5.31,0,0,0,4.9,4.9,5.31,5.31,0,0,0,6.5,1,5.31,5.31,0,0,0,8.1,4.9,5.31,5.31,0,0,0,12,6.5,5.46,5.46,0,0,0,6.5,12Z\"/>\n",
              "  </svg>\n",
              "    </button>\n",
              "    <script>\n",
              "      (() => {\n",
              "      const buttonEl =\n",
              "        document.querySelector('#id_6a18c3be-0792-48ad-8440-24719fbc3195 button.colab-df-generate');\n",
              "      buttonEl.style.display =\n",
              "        google.colab.kernel.accessAllowed ? 'block' : 'none';\n",
              "\n",
              "      buttonEl.onclick = () => {\n",
              "        google.colab.notebook.generateWithVariable('nfl_games');\n",
              "      }\n",
              "      })();\n",
              "    </script>\n",
              "  </div>\n",
              "\n",
              "    </div>\n",
              "  </div>\n"
            ],
            "application/vnd.google.colaboratory.intrinsic+json": {
              "type": "dataframe",
              "variable_name": "nfl_games",
              "summary": "{\n  \"name\": \"nfl_games\",\n  \"rows\": 272,\n  \"fields\": [\n    {\n      \"column\": \"Week\",\n      \"properties\": {\n        \"dtype\": \"category\",\n        \"num_unique_values\": 18,\n        \"samples\": [\n          \"1\",\n          \"2\",\n          \"9\"\n        ],\n        \"semantic_type\": \"\",\n        \"description\": \"\"\n      }\n    },\n    {\n      \"column\": \"Day\",\n      \"properties\": {\n        \"dtype\": \"category\",\n        \"num_unique_values\": 5,\n        \"samples\": [\n          \"Sun\",\n          \"Sat\",\n          \"Mon\"\n        ],\n        \"semantic_type\": \"\",\n        \"description\": \"\"\n      }\n    },\n    {\n      \"column\": \"Date\",\n      \"properties\": {\n        \"dtype\": \"object\",\n        \"num_unique_values\": 56,\n        \"samples\": [\n          \"2023-09-07\",\n          \"2023-09-18\",\n          \"2023-11-23\"\n        ],\n        \"semantic_type\": \"\",\n        \"description\": \"\"\n      }\n    },\n    {\n      \"column\": \"Time\",\n      \"properties\": {\n        \"dtype\": \"object\",\n        \"num_unique_values\": 11,\n        \"samples\": [\n          \"7:15PM\",\n          \"8:20PM\",\n          \"3:00PM\"\n        ],\n        \"semantic_type\": \"\",\n        \"description\": \"\"\n      }\n    },\n    {\n      \"column\": \"Winner/tie\",\n      \"properties\": {\n        \"dtype\": \"category\",\n        \"num_unique_values\": 32,\n        \"samples\": [\n          \"Denver Broncos\",\n          \"New York Jets\",\n          \"Los Angeles Chargers\"\n        ],\n        \"semantic_type\": \"\",\n        \"description\": \"\"\n      }\n    },\n    {\n      \"column\": \"Unnamed: 5\",\n      \"properties\": {\n        \"dtype\": \"category\",\n        \"num_unique_values\": 1,\n        \"samples\": [\n          \"@\"\n        ],\n        \"semantic_type\": \"\",\n        \"description\": \"\"\n      }\n    },\n    {\n      \"column\": \"Loser/tie\",\n      \"properties\": {\n        \"dtype\": \"category\",\n        \"num_unique_values\": 32,\n        \"samples\": [\n          \"Miami Dolphins\"\n        ],\n        \"semantic_type\": \"\",\n        \"description\": \"\"\n      }\n    },\n    {\n      \"column\": \"Unnamed: 7\",\n      \"properties\": {\n        \"dtype\": \"category\",\n        \"num_unique_values\": 1,\n        \"samples\": [\n          \"boxscore\"\n        ],\n        \"semantic_type\": \"\",\n        \"description\": \"\"\n      }\n    },\n    {\n      \"column\": \"PtsW\",\n      \"properties\": {\n        \"dtype\": \"number\",\n        \"std\": 8.782597656591637,\n        \"min\": 3.0,\n        \"max\": 70.0,\n        \"num_unique_values\": 42,\n        \"samples\": [\n          29.0\n        ],\n        \"semantic_type\": \"\",\n        \"description\": \"\"\n      }\n    },\n    {\n      \"column\": \"PtsL\",\n      \"properties\": {\n        \"dtype\": \"number\",\n        \"std\": 7.771166052442189,\n        \"min\": 0.0,\n        \"max\": 38.0,\n        \"num_unique_values\": 33,\n        \"samples\": [\n          29.0\n        ],\n        \"semantic_type\": \"\",\n        \"description\": \"\"\n      }\n    },\n    {\n      \"column\": \"YdsW\",\n      \"properties\": {\n        \"dtype\": \"number\",\n        \"std\": 78.93765201666477,\n        \"min\": 191.0,\n        \"max\": 726.0,\n        \"num_unique_values\": 182,\n        \"samples\": [\n          415.0\n        ],\n        \"semantic_type\": \"\",\n        \"description\": \"\"\n      }\n    },\n    {\n      \"column\": \"TOW\",\n      \"properties\": {\n        \"dtype\": \"number\",\n        \"std\": 0.9290476181999521,\n        \"min\": 0.0,\n        \"max\": 4.0,\n        \"num_unique_values\": 5,\n        \"samples\": [\n          0.0\n        ],\n        \"semantic_type\": \"\",\n        \"description\": \"\"\n      }\n    },\n    {\n      \"column\": \"YdsL\",\n      \"properties\": {\n        \"dtype\": \"number\",\n        \"std\": 80.79900596937591,\n        \"min\": 58.0,\n        \"max\": 505.0,\n        \"num_unique_values\": 190,\n        \"samples\": [\n          307.0\n        ],\n        \"semantic_type\": \"\",\n        \"description\": \"\"\n      }\n    },\n    {\n      \"column\": \"TOL\",\n      \"properties\": {\n        \"dtype\": \"number\",\n        \"std\": 1.25770363300676,\n        \"min\": 0.0,\n        \"max\": 6.0,\n        \"num_unique_values\": 7,\n        \"samples\": [\n          1.0\n        ],\n        \"semantic_type\": \"\",\n        \"description\": \"\"\n      }\n    }\n  ]\n}"
            }
          },
          "metadata": {},
          "execution_count": 35
        }
      ]
    },
    {
      "cell_type": "code",
      "source": [
        "#check no match ended in tie\n",
        "n_ties = (nfl_games['PtsW']-nfl_games['PtsL'] == 0).sum()\n",
        "\n",
        "print(f'Number of ties:\\t{n_ties}')"
      ],
      "metadata": {
        "colab": {
          "base_uri": "https://localhost:8080/"
        },
        "id": "D5a3iJE-uvbX",
        "outputId": "18928321-ba1a-4337-bd33-29008d512c5f"
      },
      "execution_count": null,
      "outputs": [
        {
          "output_type": "stream",
          "name": "stdout",
          "text": [
            "Number of ties:\t0\n"
          ]
        }
      ]
    },
    {
      "cell_type": "code",
      "source": [
        "teams = set(nfl_games['Winner/tie'].unique()) | set(nfl_games['Loser/tie'].unique())\n",
        "\n",
        "print(f'Number of teams:\\t{len(teams)}')"
      ],
      "metadata": {
        "colab": {
          "base_uri": "https://localhost:8080/"
        },
        "id": "_h3WzoGquvWz",
        "outputId": "777af5fb-0f12-4dfe-8818-9d2eb3ff23ab"
      },
      "execution_count": null,
      "outputs": [
        {
          "output_type": "stream",
          "name": "stdout",
          "text": [
            "Number of teams:\t32\n"
          ]
        }
      ]
    },
    {
      "cell_type": "markdown",
      "source": [
        "## Calculate ELO Scores"
      ],
      "metadata": {
        "id": "I0a-N0FSOQP7"
      }
    },
    {
      "cell_type": "code",
      "source": [
        "#define logistic function (utility)\n",
        "def logistic(x):\n",
        "    return 1 / (1 + 10**-x)\n",
        "\n",
        "#given two ELO scores, compute P(A wins over B)\n",
        "def expected_game_score(team_a_elo, team_b_elo, S=400):\n",
        "    return logistic((team_a_elo - team_b_elo)/S)"
      ],
      "metadata": {
        "id": "HLQK_DZ2880j"
      },
      "execution_count": null,
      "outputs": []
    },
    {
      "cell_type": "code",
      "source": [
        "#set up initial elo scores - same for each team\n",
        "INITIAL_ELO = 1500\n",
        "team_elo = dict([(team,[INITIAL_ELO]) for team in sorted(teams)])\n",
        "\n",
        "# learning constant - hyperparameter!!\n",
        "K = 20\n",
        "\n",
        "#loop through the data and update\n",
        "#note that games are already ordered by date in the original dataset\n",
        "for index, row in nfl_games.iterrows():\n",
        "\n",
        "    winner = row['Winner/tie']\n",
        "    loser = row['Loser/tie']\n",
        "\n",
        "    #get latest elo scores\n",
        "    elo_winner = team_elo[winner][-1]\n",
        "    elo_loser = team_elo[loser][-1]\n",
        "\n",
        "    #calculate prob of winning for each team\n",
        "    p_winner = expected_game_score(elo_winner, elo_loser)\n",
        "    p_loser = expected_game_score(elo_loser, elo_winner) #should be 1 - p_winner\n",
        "\n",
        "    # calculate and append new elo scores to the list\n",
        "    new_elo_winner = elo_winner + K * (1 - p_winner)\n",
        "    new_elo_loser = elo_loser + K * (0 - p_loser)\n",
        "\n",
        "    team_elo[winner].append(new_elo_winner)\n",
        "    team_elo[loser].append(new_elo_loser)"
      ],
      "metadata": {
        "id": "wwCsCgW58-0O"
      },
      "execution_count": null,
      "outputs": []
    },
    {
      "cell_type": "code",
      "source": [
        "print(\"Final Elo Rankings:\")\n",
        "print(\"----------------------------------------------\\n\")\n",
        "\n",
        "sorted_elo = sorted([(t,team_elo[t][-1]) for t in team_elo], key=lambda x: x[1], reverse=True)\n",
        "\n",
        "for i, (t,e) in enumerate(sorted_elo):\n",
        "    print(f'{i+1}\\t{e:.2f}\\t\\t{t}')"
      ],
      "metadata": {
        "colab": {
          "base_uri": "https://localhost:8080/"
        },
        "id": "rYz-7S1YBvWN",
        "outputId": "e0cd6133-a940-4b0c-c0d8-982f215c0753"
      },
      "execution_count": null,
      "outputs": [
        {
          "output_type": "stream",
          "name": "stdout",
          "text": [
            "Final Elo Rankings:\n",
            "----------------------------------------------\n",
            "\n",
            "1\t1577.43\t\tBaltimore Ravens\n",
            "2\t1557.34\t\tDallas Cowboys\n",
            "3\t1554.81\t\tSan Francisco 49ers\n",
            "4\t1553.09\t\tDetroit Lions\n",
            "5\t1547.50\t\tBuffalo Bills\n",
            "6\t1542.53\t\tCleveland Browns\n",
            "7\t1535.30\t\tMiami Dolphins\n",
            "8\t1534.42\t\tKansas City Chiefs\n",
            "9\t1532.67\t\tLos Angeles Rams\n",
            "10\t1529.32\t\tPhiladelphia Eagles\n",
            "11\t1526.49\t\tPittsburgh Steelers\n",
            "12\t1526.17\t\tHouston Texans\n",
            "13\t1515.54\t\tCincinnati Bengals\n",
            "14\t1511.69\t\tGreen Bay Packers\n",
            "15\t1507.77\t\tSeattle Seahawks\n",
            "16\t1507.32\t\tTampa Bay Buccaneers\n",
            "17\t1506.78\t\tNew Orleans Saints\n",
            "18\t1505.06\t\tIndianapolis Colts\n",
            "19\t1500.44\t\tJacksonville Jaguars\n",
            "20\t1494.31\t\tLas Vegas Raiders\n",
            "21\t1494.04\t\tDenver Broncos\n",
            "22\t1481.34\t\tChicago Bears\n",
            "23\t1476.18\t\tNew York Jets\n",
            "24\t1473.04\t\tMinnesota Vikings\n",
            "25\t1465.64\t\tAtlanta Falcons\n",
            "26\t1465.42\t\tNew York Giants\n",
            "27\t1461.02\t\tTennessee Titans\n",
            "28\t1438.74\t\tLos Angeles Chargers\n",
            "29\t1434.38\t\tArizona Cardinals\n",
            "30\t1428.51\t\tNew England Patriots\n",
            "31\t1421.81\t\tWashington Commanders\n",
            "32\t1393.94\t\tCarolina Panthers\n"
          ]
        }
      ]
    },
    {
      "cell_type": "markdown",
      "source": [
        "Compare the rankings with those from Neil Paine (not so bad!!):"
      ],
      "metadata": {
        "id": "xeJu_pdwOBde"
      }
    },
    {
      "cell_type": "markdown",
      "source": [
        "![image.png](data:image/png;base64,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)"
      ],
      "metadata": {
        "id": "9YW02V_5NYLh"
      }
    },
    {
      "cell_type": "markdown",
      "source": [
        "## (Stub) Analyze scores\n",
        "\n",
        "The good thing of owning your own scores is that you can now bulid any pairwise probability matrix that you like using the code from previous sections!\n",
        "\n",
        "Also you can plot how the score changes for each team with the number of games and (maybe?) identify interesting trends!\n"
      ],
      "metadata": {
        "id": "pfSxtHu2OHOD"
      }
    },
    {
      "cell_type": "code",
      "source": [
        "div_finals_teams = [\n",
        "    'San Francisco 49ers',\n",
        "    'Detroit Lions',\n",
        "    'Baltimore Ravens',\n",
        "    'Kansas City Chiefs'\n",
        "]\n",
        "\n",
        "\n",
        "P_from_data ="
      ],
      "metadata": {
        "id": "mFIhLsMOEzgY"
      },
      "execution_count": null,
      "outputs": []
    },
    {
      "cell_type": "code",
      "source": [],
      "metadata": {
        "id": "M9hR4PDoMPW_"
      },
      "execution_count": null,
      "outputs": []
    }
  ]
}